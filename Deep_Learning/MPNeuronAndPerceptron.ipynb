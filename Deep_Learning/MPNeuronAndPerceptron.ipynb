{
 "cells": [
  {
   "cell_type": "markdown",
   "metadata": {},
   "source": [
    "### Load Libraries"
   ]
  },
  {
   "cell_type": "code",
   "execution_count": 1,
   "metadata": {},
   "outputs": [],
   "source": [
    "import sklearn.datasets\n",
    "import numpy as np\n",
    "import pandas as pd"
   ]
  },
  {
   "cell_type": "markdown",
   "metadata": {},
   "source": [
    "### Load Dataset"
   ]
  },
  {
   "cell_type": "code",
   "execution_count": 2,
   "metadata": {},
   "outputs": [
    {
     "data": {
      "text/plain": [
       "dict_keys(['data', 'target', 'target_names', 'DESCR', 'feature_names', 'filename'])"
      ]
     },
     "execution_count": 2,
     "metadata": {},
     "output_type": "execute_result"
    }
   ],
   "source": [
    "breast_cancer = sklearn.datasets.load_breast_cancer()\n",
    "breast_cancer.keys()"
   ]
  },
  {
   "cell_type": "code",
   "execution_count": 3,
   "metadata": {},
   "outputs": [],
   "source": [
    "X = breast_cancer.data\n",
    "y = breast_cancer.target"
   ]
  },
  {
   "cell_type": "code",
   "execution_count": 4,
   "metadata": {},
   "outputs": [
    {
     "name": "stdout",
     "output_type": "stream",
     "text": [
      "[[1.799e+01 1.038e+01 1.228e+02 ... 2.654e-01 4.601e-01 1.189e-01]\n",
      " [2.057e+01 1.777e+01 1.329e+02 ... 1.860e-01 2.750e-01 8.902e-02]\n",
      " [1.969e+01 2.125e+01 1.300e+02 ... 2.430e-01 3.613e-01 8.758e-02]\n",
      " ...\n",
      " [1.660e+01 2.808e+01 1.083e+02 ... 1.418e-01 2.218e-01 7.820e-02]\n",
      " [2.060e+01 2.933e+01 1.401e+02 ... 2.650e-01 4.087e-01 1.240e-01]\n",
      " [7.760e+00 2.454e+01 4.792e+01 ... 0.000e+00 2.871e-01 7.039e-02]]\n",
      "[0 0 0 0 0 0 0 0 0 0 0 0 0 0 0 0 0 0 0 1 1 1 0 0 0 0 0 0 0 0 0 0 0 0 0 0 0\n",
      " 1 0 0 0 0 0 0 0 0 1 0 1 1 1 1 1 0 0 1 0 0 1 1 1 1 0 1 0 0 1 1 1 1 0 1 0 0\n",
      " 1 0 1 0 0 1 1 1 0 0 1 0 0 0 1 1 1 0 1 1 0 0 1 1 1 0 0 1 1 1 1 0 1 1 0 1 1\n",
      " 1 1 1 1 1 1 0 0 0 1 0 0 1 1 1 0 0 1 0 1 0 0 1 0 0 1 1 0 1 1 0 1 1 1 1 0 1\n",
      " 1 1 1 1 1 1 1 1 0 1 1 1 1 0 0 1 0 1 1 0 0 1 1 0 0 1 1 1 1 0 1 1 0 0 0 1 0\n",
      " 1 0 1 1 1 0 1 1 0 0 1 0 0 0 0 1 0 0 0 1 0 1 0 1 1 0 1 0 0 0 0 1 1 0 0 1 1\n",
      " 1 0 1 1 1 1 1 0 0 1 1 0 1 1 0 0 1 0 1 1 1 1 0 1 1 1 1 1 0 1 0 0 0 0 0 0 0\n",
      " 0 0 0 0 0 0 0 1 1 1 1 1 1 0 1 0 1 1 0 1 1 0 1 0 0 1 1 1 1 1 1 1 1 1 1 1 1\n",
      " 1 0 1 1 0 1 0 1 1 1 1 1 1 1 1 1 1 1 1 1 1 0 1 1 1 0 1 0 1 1 1 1 0 0 0 1 1\n",
      " 1 1 0 1 0 1 0 1 1 1 0 1 1 1 1 1 1 1 0 0 0 1 1 1 1 1 1 1 1 1 1 1 0 0 1 0 0\n",
      " 0 1 0 0 1 1 1 1 1 0 1 1 1 1 1 0 1 1 1 0 1 1 0 0 1 1 1 1 1 1 0 1 1 1 1 1 1\n",
      " 1 0 1 1 1 1 1 0 1 1 0 1 1 1 1 1 1 1 1 1 1 1 1 0 1 0 0 1 0 1 1 1 1 1 0 1 1\n",
      " 0 1 0 1 1 0 1 0 1 1 1 1 1 1 1 1 0 0 1 1 1 1 1 1 0 1 1 1 1 1 1 1 1 1 1 0 1\n",
      " 1 1 1 1 1 1 0 1 0 1 1 0 1 1 1 1 1 0 0 1 0 1 0 1 1 1 1 1 0 1 1 0 1 0 1 0 0\n",
      " 1 1 1 0 1 1 1 1 1 1 1 1 1 1 1 0 1 0 0 1 1 1 1 1 1 1 1 1 1 1 1 1 1 1 1 1 1\n",
      " 1 1 1 1 1 1 1 0 0 0 0 0 0 1]\n"
     ]
    }
   ],
   "source": [
    "print(X)\n",
    "print(y)"
   ]
  },
  {
   "cell_type": "code",
   "execution_count": 5,
   "metadata": {},
   "outputs": [
    {
     "name": "stdout",
     "output_type": "stream",
     "text": [
      "(569, 30) (569,)\n"
     ]
    }
   ],
   "source": [
    "print(X.shape,y.shape)"
   ]
  },
  {
   "cell_type": "code",
   "execution_count": 6,
   "metadata": {},
   "outputs": [],
   "source": [
    "data = pd.DataFrame(X,columns=breast_cancer.feature_names)"
   ]
  },
  {
   "cell_type": "code",
   "execution_count": 7,
   "metadata": {},
   "outputs": [],
   "source": [
    "data['class'] = y"
   ]
  },
  {
   "cell_type": "code",
   "execution_count": 8,
   "metadata": {},
   "outputs": [
    {
     "data": {
      "text/html": [
       "<div>\n",
       "<style scoped>\n",
       "    .dataframe tbody tr th:only-of-type {\n",
       "        vertical-align: middle;\n",
       "    }\n",
       "\n",
       "    .dataframe tbody tr th {\n",
       "        vertical-align: top;\n",
       "    }\n",
       "\n",
       "    .dataframe thead th {\n",
       "        text-align: right;\n",
       "    }\n",
       "</style>\n",
       "<table border=\"1\" class=\"dataframe\">\n",
       "  <thead>\n",
       "    <tr style=\"text-align: right;\">\n",
       "      <th></th>\n",
       "      <th>mean radius</th>\n",
       "      <th>mean texture</th>\n",
       "      <th>mean perimeter</th>\n",
       "      <th>mean area</th>\n",
       "      <th>mean smoothness</th>\n",
       "      <th>mean compactness</th>\n",
       "      <th>mean concavity</th>\n",
       "      <th>mean concave points</th>\n",
       "      <th>mean symmetry</th>\n",
       "      <th>mean fractal dimension</th>\n",
       "      <th>...</th>\n",
       "      <th>worst texture</th>\n",
       "      <th>worst perimeter</th>\n",
       "      <th>worst area</th>\n",
       "      <th>worst smoothness</th>\n",
       "      <th>worst compactness</th>\n",
       "      <th>worst concavity</th>\n",
       "      <th>worst concave points</th>\n",
       "      <th>worst symmetry</th>\n",
       "      <th>worst fractal dimension</th>\n",
       "      <th>class</th>\n",
       "    </tr>\n",
       "  </thead>\n",
       "  <tbody>\n",
       "    <tr>\n",
       "      <th>0</th>\n",
       "      <td>17.99</td>\n",
       "      <td>10.38</td>\n",
       "      <td>122.80</td>\n",
       "      <td>1001.0</td>\n",
       "      <td>0.11840</td>\n",
       "      <td>0.27760</td>\n",
       "      <td>0.3001</td>\n",
       "      <td>0.14710</td>\n",
       "      <td>0.2419</td>\n",
       "      <td>0.07871</td>\n",
       "      <td>...</td>\n",
       "      <td>17.33</td>\n",
       "      <td>184.60</td>\n",
       "      <td>2019.0</td>\n",
       "      <td>0.1622</td>\n",
       "      <td>0.6656</td>\n",
       "      <td>0.7119</td>\n",
       "      <td>0.2654</td>\n",
       "      <td>0.4601</td>\n",
       "      <td>0.11890</td>\n",
       "      <td>0</td>\n",
       "    </tr>\n",
       "    <tr>\n",
       "      <th>1</th>\n",
       "      <td>20.57</td>\n",
       "      <td>17.77</td>\n",
       "      <td>132.90</td>\n",
       "      <td>1326.0</td>\n",
       "      <td>0.08474</td>\n",
       "      <td>0.07864</td>\n",
       "      <td>0.0869</td>\n",
       "      <td>0.07017</td>\n",
       "      <td>0.1812</td>\n",
       "      <td>0.05667</td>\n",
       "      <td>...</td>\n",
       "      <td>23.41</td>\n",
       "      <td>158.80</td>\n",
       "      <td>1956.0</td>\n",
       "      <td>0.1238</td>\n",
       "      <td>0.1866</td>\n",
       "      <td>0.2416</td>\n",
       "      <td>0.1860</td>\n",
       "      <td>0.2750</td>\n",
       "      <td>0.08902</td>\n",
       "      <td>0</td>\n",
       "    </tr>\n",
       "    <tr>\n",
       "      <th>2</th>\n",
       "      <td>19.69</td>\n",
       "      <td>21.25</td>\n",
       "      <td>130.00</td>\n",
       "      <td>1203.0</td>\n",
       "      <td>0.10960</td>\n",
       "      <td>0.15990</td>\n",
       "      <td>0.1974</td>\n",
       "      <td>0.12790</td>\n",
       "      <td>0.2069</td>\n",
       "      <td>0.05999</td>\n",
       "      <td>...</td>\n",
       "      <td>25.53</td>\n",
       "      <td>152.50</td>\n",
       "      <td>1709.0</td>\n",
       "      <td>0.1444</td>\n",
       "      <td>0.4245</td>\n",
       "      <td>0.4504</td>\n",
       "      <td>0.2430</td>\n",
       "      <td>0.3613</td>\n",
       "      <td>0.08758</td>\n",
       "      <td>0</td>\n",
       "    </tr>\n",
       "    <tr>\n",
       "      <th>3</th>\n",
       "      <td>11.42</td>\n",
       "      <td>20.38</td>\n",
       "      <td>77.58</td>\n",
       "      <td>386.1</td>\n",
       "      <td>0.14250</td>\n",
       "      <td>0.28390</td>\n",
       "      <td>0.2414</td>\n",
       "      <td>0.10520</td>\n",
       "      <td>0.2597</td>\n",
       "      <td>0.09744</td>\n",
       "      <td>...</td>\n",
       "      <td>26.50</td>\n",
       "      <td>98.87</td>\n",
       "      <td>567.7</td>\n",
       "      <td>0.2098</td>\n",
       "      <td>0.8663</td>\n",
       "      <td>0.6869</td>\n",
       "      <td>0.2575</td>\n",
       "      <td>0.6638</td>\n",
       "      <td>0.17300</td>\n",
       "      <td>0</td>\n",
       "    </tr>\n",
       "    <tr>\n",
       "      <th>4</th>\n",
       "      <td>20.29</td>\n",
       "      <td>14.34</td>\n",
       "      <td>135.10</td>\n",
       "      <td>1297.0</td>\n",
       "      <td>0.10030</td>\n",
       "      <td>0.13280</td>\n",
       "      <td>0.1980</td>\n",
       "      <td>0.10430</td>\n",
       "      <td>0.1809</td>\n",
       "      <td>0.05883</td>\n",
       "      <td>...</td>\n",
       "      <td>16.67</td>\n",
       "      <td>152.20</td>\n",
       "      <td>1575.0</td>\n",
       "      <td>0.1374</td>\n",
       "      <td>0.2050</td>\n",
       "      <td>0.4000</td>\n",
       "      <td>0.1625</td>\n",
       "      <td>0.2364</td>\n",
       "      <td>0.07678</td>\n",
       "      <td>0</td>\n",
       "    </tr>\n",
       "  </tbody>\n",
       "</table>\n",
       "<p>5 rows × 31 columns</p>\n",
       "</div>"
      ],
      "text/plain": [
       "   mean radius  mean texture  mean perimeter  mean area  mean smoothness  \\\n",
       "0        17.99         10.38          122.80     1001.0          0.11840   \n",
       "1        20.57         17.77          132.90     1326.0          0.08474   \n",
       "2        19.69         21.25          130.00     1203.0          0.10960   \n",
       "3        11.42         20.38           77.58      386.1          0.14250   \n",
       "4        20.29         14.34          135.10     1297.0          0.10030   \n",
       "\n",
       "   mean compactness  mean concavity  mean concave points  mean symmetry  \\\n",
       "0           0.27760          0.3001              0.14710         0.2419   \n",
       "1           0.07864          0.0869              0.07017         0.1812   \n",
       "2           0.15990          0.1974              0.12790         0.2069   \n",
       "3           0.28390          0.2414              0.10520         0.2597   \n",
       "4           0.13280          0.1980              0.10430         0.1809   \n",
       "\n",
       "   mean fractal dimension  ...  worst texture  worst perimeter  worst area  \\\n",
       "0                 0.07871  ...          17.33           184.60      2019.0   \n",
       "1                 0.05667  ...          23.41           158.80      1956.0   \n",
       "2                 0.05999  ...          25.53           152.50      1709.0   \n",
       "3                 0.09744  ...          26.50            98.87       567.7   \n",
       "4                 0.05883  ...          16.67           152.20      1575.0   \n",
       "\n",
       "   worst smoothness  worst compactness  worst concavity  worst concave points  \\\n",
       "0            0.1622             0.6656           0.7119                0.2654   \n",
       "1            0.1238             0.1866           0.2416                0.1860   \n",
       "2            0.1444             0.4245           0.4504                0.2430   \n",
       "3            0.2098             0.8663           0.6869                0.2575   \n",
       "4            0.1374             0.2050           0.4000                0.1625   \n",
       "\n",
       "   worst symmetry  worst fractal dimension  class  \n",
       "0          0.4601                  0.11890      0  \n",
       "1          0.2750                  0.08902      0  \n",
       "2          0.3613                  0.08758      0  \n",
       "3          0.6638                  0.17300      0  \n",
       "4          0.2364                  0.07678      0  \n",
       "\n",
       "[5 rows x 31 columns]"
      ]
     },
     "execution_count": 8,
     "metadata": {},
     "output_type": "execute_result"
    }
   ],
   "source": [
    "data.head()"
   ]
  },
  {
   "cell_type": "code",
   "execution_count": 9,
   "metadata": {},
   "outputs": [
    {
     "data": {
      "text/html": [
       "<div>\n",
       "<style scoped>\n",
       "    .dataframe tbody tr th:only-of-type {\n",
       "        vertical-align: middle;\n",
       "    }\n",
       "\n",
       "    .dataframe tbody tr th {\n",
       "        vertical-align: top;\n",
       "    }\n",
       "\n",
       "    .dataframe thead th {\n",
       "        text-align: right;\n",
       "    }\n",
       "</style>\n",
       "<table border=\"1\" class=\"dataframe\">\n",
       "  <thead>\n",
       "    <tr style=\"text-align: right;\">\n",
       "      <th></th>\n",
       "      <th>mean radius</th>\n",
       "      <th>mean texture</th>\n",
       "      <th>mean perimeter</th>\n",
       "      <th>mean area</th>\n",
       "      <th>mean smoothness</th>\n",
       "      <th>mean compactness</th>\n",
       "      <th>mean concavity</th>\n",
       "      <th>mean concave points</th>\n",
       "      <th>mean symmetry</th>\n",
       "      <th>mean fractal dimension</th>\n",
       "      <th>...</th>\n",
       "      <th>worst texture</th>\n",
       "      <th>worst perimeter</th>\n",
       "      <th>worst area</th>\n",
       "      <th>worst smoothness</th>\n",
       "      <th>worst compactness</th>\n",
       "      <th>worst concavity</th>\n",
       "      <th>worst concave points</th>\n",
       "      <th>worst symmetry</th>\n",
       "      <th>worst fractal dimension</th>\n",
       "      <th>class</th>\n",
       "    </tr>\n",
       "  </thead>\n",
       "  <tbody>\n",
       "    <tr>\n",
       "      <th>count</th>\n",
       "      <td>569.000000</td>\n",
       "      <td>569.000000</td>\n",
       "      <td>569.000000</td>\n",
       "      <td>569.000000</td>\n",
       "      <td>569.000000</td>\n",
       "      <td>569.000000</td>\n",
       "      <td>569.000000</td>\n",
       "      <td>569.000000</td>\n",
       "      <td>569.000000</td>\n",
       "      <td>569.000000</td>\n",
       "      <td>...</td>\n",
       "      <td>569.000000</td>\n",
       "      <td>569.000000</td>\n",
       "      <td>569.000000</td>\n",
       "      <td>569.000000</td>\n",
       "      <td>569.000000</td>\n",
       "      <td>569.000000</td>\n",
       "      <td>569.000000</td>\n",
       "      <td>569.000000</td>\n",
       "      <td>569.000000</td>\n",
       "      <td>569.000000</td>\n",
       "    </tr>\n",
       "    <tr>\n",
       "      <th>mean</th>\n",
       "      <td>14.127292</td>\n",
       "      <td>19.289649</td>\n",
       "      <td>91.969033</td>\n",
       "      <td>654.889104</td>\n",
       "      <td>0.096360</td>\n",
       "      <td>0.104341</td>\n",
       "      <td>0.088799</td>\n",
       "      <td>0.048919</td>\n",
       "      <td>0.181162</td>\n",
       "      <td>0.062798</td>\n",
       "      <td>...</td>\n",
       "      <td>25.677223</td>\n",
       "      <td>107.261213</td>\n",
       "      <td>880.583128</td>\n",
       "      <td>0.132369</td>\n",
       "      <td>0.254265</td>\n",
       "      <td>0.272188</td>\n",
       "      <td>0.114606</td>\n",
       "      <td>0.290076</td>\n",
       "      <td>0.083946</td>\n",
       "      <td>0.627417</td>\n",
       "    </tr>\n",
       "    <tr>\n",
       "      <th>std</th>\n",
       "      <td>3.524049</td>\n",
       "      <td>4.301036</td>\n",
       "      <td>24.298981</td>\n",
       "      <td>351.914129</td>\n",
       "      <td>0.014064</td>\n",
       "      <td>0.052813</td>\n",
       "      <td>0.079720</td>\n",
       "      <td>0.038803</td>\n",
       "      <td>0.027414</td>\n",
       "      <td>0.007060</td>\n",
       "      <td>...</td>\n",
       "      <td>6.146258</td>\n",
       "      <td>33.602542</td>\n",
       "      <td>569.356993</td>\n",
       "      <td>0.022832</td>\n",
       "      <td>0.157336</td>\n",
       "      <td>0.208624</td>\n",
       "      <td>0.065732</td>\n",
       "      <td>0.061867</td>\n",
       "      <td>0.018061</td>\n",
       "      <td>0.483918</td>\n",
       "    </tr>\n",
       "    <tr>\n",
       "      <th>min</th>\n",
       "      <td>6.981000</td>\n",
       "      <td>9.710000</td>\n",
       "      <td>43.790000</td>\n",
       "      <td>143.500000</td>\n",
       "      <td>0.052630</td>\n",
       "      <td>0.019380</td>\n",
       "      <td>0.000000</td>\n",
       "      <td>0.000000</td>\n",
       "      <td>0.106000</td>\n",
       "      <td>0.049960</td>\n",
       "      <td>...</td>\n",
       "      <td>12.020000</td>\n",
       "      <td>50.410000</td>\n",
       "      <td>185.200000</td>\n",
       "      <td>0.071170</td>\n",
       "      <td>0.027290</td>\n",
       "      <td>0.000000</td>\n",
       "      <td>0.000000</td>\n",
       "      <td>0.156500</td>\n",
       "      <td>0.055040</td>\n",
       "      <td>0.000000</td>\n",
       "    </tr>\n",
       "    <tr>\n",
       "      <th>25%</th>\n",
       "      <td>11.700000</td>\n",
       "      <td>16.170000</td>\n",
       "      <td>75.170000</td>\n",
       "      <td>420.300000</td>\n",
       "      <td>0.086370</td>\n",
       "      <td>0.064920</td>\n",
       "      <td>0.029560</td>\n",
       "      <td>0.020310</td>\n",
       "      <td>0.161900</td>\n",
       "      <td>0.057700</td>\n",
       "      <td>...</td>\n",
       "      <td>21.080000</td>\n",
       "      <td>84.110000</td>\n",
       "      <td>515.300000</td>\n",
       "      <td>0.116600</td>\n",
       "      <td>0.147200</td>\n",
       "      <td>0.114500</td>\n",
       "      <td>0.064930</td>\n",
       "      <td>0.250400</td>\n",
       "      <td>0.071460</td>\n",
       "      <td>0.000000</td>\n",
       "    </tr>\n",
       "    <tr>\n",
       "      <th>50%</th>\n",
       "      <td>13.370000</td>\n",
       "      <td>18.840000</td>\n",
       "      <td>86.240000</td>\n",
       "      <td>551.100000</td>\n",
       "      <td>0.095870</td>\n",
       "      <td>0.092630</td>\n",
       "      <td>0.061540</td>\n",
       "      <td>0.033500</td>\n",
       "      <td>0.179200</td>\n",
       "      <td>0.061540</td>\n",
       "      <td>...</td>\n",
       "      <td>25.410000</td>\n",
       "      <td>97.660000</td>\n",
       "      <td>686.500000</td>\n",
       "      <td>0.131300</td>\n",
       "      <td>0.211900</td>\n",
       "      <td>0.226700</td>\n",
       "      <td>0.099930</td>\n",
       "      <td>0.282200</td>\n",
       "      <td>0.080040</td>\n",
       "      <td>1.000000</td>\n",
       "    </tr>\n",
       "    <tr>\n",
       "      <th>75%</th>\n",
       "      <td>15.780000</td>\n",
       "      <td>21.800000</td>\n",
       "      <td>104.100000</td>\n",
       "      <td>782.700000</td>\n",
       "      <td>0.105300</td>\n",
       "      <td>0.130400</td>\n",
       "      <td>0.130700</td>\n",
       "      <td>0.074000</td>\n",
       "      <td>0.195700</td>\n",
       "      <td>0.066120</td>\n",
       "      <td>...</td>\n",
       "      <td>29.720000</td>\n",
       "      <td>125.400000</td>\n",
       "      <td>1084.000000</td>\n",
       "      <td>0.146000</td>\n",
       "      <td>0.339100</td>\n",
       "      <td>0.382900</td>\n",
       "      <td>0.161400</td>\n",
       "      <td>0.317900</td>\n",
       "      <td>0.092080</td>\n",
       "      <td>1.000000</td>\n",
       "    </tr>\n",
       "    <tr>\n",
       "      <th>max</th>\n",
       "      <td>28.110000</td>\n",
       "      <td>39.280000</td>\n",
       "      <td>188.500000</td>\n",
       "      <td>2501.000000</td>\n",
       "      <td>0.163400</td>\n",
       "      <td>0.345400</td>\n",
       "      <td>0.426800</td>\n",
       "      <td>0.201200</td>\n",
       "      <td>0.304000</td>\n",
       "      <td>0.097440</td>\n",
       "      <td>...</td>\n",
       "      <td>49.540000</td>\n",
       "      <td>251.200000</td>\n",
       "      <td>4254.000000</td>\n",
       "      <td>0.222600</td>\n",
       "      <td>1.058000</td>\n",
       "      <td>1.252000</td>\n",
       "      <td>0.291000</td>\n",
       "      <td>0.663800</td>\n",
       "      <td>0.207500</td>\n",
       "      <td>1.000000</td>\n",
       "    </tr>\n",
       "  </tbody>\n",
       "</table>\n",
       "<p>8 rows × 31 columns</p>\n",
       "</div>"
      ],
      "text/plain": [
       "       mean radius  mean texture  mean perimeter    mean area  \\\n",
       "count   569.000000    569.000000      569.000000   569.000000   \n",
       "mean     14.127292     19.289649       91.969033   654.889104   \n",
       "std       3.524049      4.301036       24.298981   351.914129   \n",
       "min       6.981000      9.710000       43.790000   143.500000   \n",
       "25%      11.700000     16.170000       75.170000   420.300000   \n",
       "50%      13.370000     18.840000       86.240000   551.100000   \n",
       "75%      15.780000     21.800000      104.100000   782.700000   \n",
       "max      28.110000     39.280000      188.500000  2501.000000   \n",
       "\n",
       "       mean smoothness  mean compactness  mean concavity  mean concave points  \\\n",
       "count       569.000000        569.000000      569.000000           569.000000   \n",
       "mean          0.096360          0.104341        0.088799             0.048919   \n",
       "std           0.014064          0.052813        0.079720             0.038803   \n",
       "min           0.052630          0.019380        0.000000             0.000000   \n",
       "25%           0.086370          0.064920        0.029560             0.020310   \n",
       "50%           0.095870          0.092630        0.061540             0.033500   \n",
       "75%           0.105300          0.130400        0.130700             0.074000   \n",
       "max           0.163400          0.345400        0.426800             0.201200   \n",
       "\n",
       "       mean symmetry  mean fractal dimension  ...  worst texture  \\\n",
       "count     569.000000              569.000000  ...     569.000000   \n",
       "mean        0.181162                0.062798  ...      25.677223   \n",
       "std         0.027414                0.007060  ...       6.146258   \n",
       "min         0.106000                0.049960  ...      12.020000   \n",
       "25%         0.161900                0.057700  ...      21.080000   \n",
       "50%         0.179200                0.061540  ...      25.410000   \n",
       "75%         0.195700                0.066120  ...      29.720000   \n",
       "max         0.304000                0.097440  ...      49.540000   \n",
       "\n",
       "       worst perimeter   worst area  worst smoothness  worst compactness  \\\n",
       "count       569.000000   569.000000        569.000000         569.000000   \n",
       "mean        107.261213   880.583128          0.132369           0.254265   \n",
       "std          33.602542   569.356993          0.022832           0.157336   \n",
       "min          50.410000   185.200000          0.071170           0.027290   \n",
       "25%          84.110000   515.300000          0.116600           0.147200   \n",
       "50%          97.660000   686.500000          0.131300           0.211900   \n",
       "75%         125.400000  1084.000000          0.146000           0.339100   \n",
       "max         251.200000  4254.000000          0.222600           1.058000   \n",
       "\n",
       "       worst concavity  worst concave points  worst symmetry  \\\n",
       "count       569.000000            569.000000      569.000000   \n",
       "mean          0.272188              0.114606        0.290076   \n",
       "std           0.208624              0.065732        0.061867   \n",
       "min           0.000000              0.000000        0.156500   \n",
       "25%           0.114500              0.064930        0.250400   \n",
       "50%           0.226700              0.099930        0.282200   \n",
       "75%           0.382900              0.161400        0.317900   \n",
       "max           1.252000              0.291000        0.663800   \n",
       "\n",
       "       worst fractal dimension       class  \n",
       "count               569.000000  569.000000  \n",
       "mean                  0.083946    0.627417  \n",
       "std                   0.018061    0.483918  \n",
       "min                   0.055040    0.000000  \n",
       "25%                   0.071460    0.000000  \n",
       "50%                   0.080040    1.000000  \n",
       "75%                   0.092080    1.000000  \n",
       "max                   0.207500    1.000000  \n",
       "\n",
       "[8 rows x 31 columns]"
      ]
     },
     "execution_count": 9,
     "metadata": {},
     "output_type": "execute_result"
    }
   ],
   "source": [
    "data.describe()"
   ]
  },
  {
   "cell_type": "code",
   "execution_count": 10,
   "metadata": {},
   "outputs": [
    {
     "name": "stdout",
     "output_type": "stream",
     "text": [
      "1    357\n",
      "0    212\n",
      "Name: class, dtype: int64\n"
     ]
    }
   ],
   "source": [
    "print(data['class'].value_counts())"
   ]
  },
  {
   "cell_type": "code",
   "execution_count": 11,
   "metadata": {},
   "outputs": [
    {
     "name": "stdout",
     "output_type": "stream",
     "text": [
      "['malignant' 'benign']\n"
     ]
    }
   ],
   "source": [
    "print(breast_cancer.target_names)"
   ]
  },
  {
   "cell_type": "code",
   "execution_count": 12,
   "metadata": {},
   "outputs": [
    {
     "data": {
      "text/html": [
       "<div>\n",
       "<style scoped>\n",
       "    .dataframe tbody tr th:only-of-type {\n",
       "        vertical-align: middle;\n",
       "    }\n",
       "\n",
       "    .dataframe tbody tr th {\n",
       "        vertical-align: top;\n",
       "    }\n",
       "\n",
       "    .dataframe thead th {\n",
       "        text-align: right;\n",
       "    }\n",
       "</style>\n",
       "<table border=\"1\" class=\"dataframe\">\n",
       "  <thead>\n",
       "    <tr style=\"text-align: right;\">\n",
       "      <th></th>\n",
       "      <th>mean radius</th>\n",
       "      <th>mean texture</th>\n",
       "      <th>mean perimeter</th>\n",
       "      <th>mean area</th>\n",
       "      <th>mean smoothness</th>\n",
       "      <th>mean compactness</th>\n",
       "      <th>mean concavity</th>\n",
       "      <th>mean concave points</th>\n",
       "      <th>mean symmetry</th>\n",
       "      <th>mean fractal dimension</th>\n",
       "      <th>...</th>\n",
       "      <th>worst radius</th>\n",
       "      <th>worst texture</th>\n",
       "      <th>worst perimeter</th>\n",
       "      <th>worst area</th>\n",
       "      <th>worst smoothness</th>\n",
       "      <th>worst compactness</th>\n",
       "      <th>worst concavity</th>\n",
       "      <th>worst concave points</th>\n",
       "      <th>worst symmetry</th>\n",
       "      <th>worst fractal dimension</th>\n",
       "    </tr>\n",
       "    <tr>\n",
       "      <th>class</th>\n",
       "      <th></th>\n",
       "      <th></th>\n",
       "      <th></th>\n",
       "      <th></th>\n",
       "      <th></th>\n",
       "      <th></th>\n",
       "      <th></th>\n",
       "      <th></th>\n",
       "      <th></th>\n",
       "      <th></th>\n",
       "      <th></th>\n",
       "      <th></th>\n",
       "      <th></th>\n",
       "      <th></th>\n",
       "      <th></th>\n",
       "      <th></th>\n",
       "      <th></th>\n",
       "      <th></th>\n",
       "      <th></th>\n",
       "      <th></th>\n",
       "      <th></th>\n",
       "    </tr>\n",
       "  </thead>\n",
       "  <tbody>\n",
       "    <tr>\n",
       "      <th>0</th>\n",
       "      <td>17.462830</td>\n",
       "      <td>21.604906</td>\n",
       "      <td>115.365377</td>\n",
       "      <td>978.376415</td>\n",
       "      <td>0.102898</td>\n",
       "      <td>0.145188</td>\n",
       "      <td>0.160775</td>\n",
       "      <td>0.087990</td>\n",
       "      <td>0.192909</td>\n",
       "      <td>0.062680</td>\n",
       "      <td>...</td>\n",
       "      <td>21.134811</td>\n",
       "      <td>29.318208</td>\n",
       "      <td>141.370330</td>\n",
       "      <td>1422.286321</td>\n",
       "      <td>0.144845</td>\n",
       "      <td>0.374824</td>\n",
       "      <td>0.450606</td>\n",
       "      <td>0.182237</td>\n",
       "      <td>0.323468</td>\n",
       "      <td>0.091530</td>\n",
       "    </tr>\n",
       "    <tr>\n",
       "      <th>1</th>\n",
       "      <td>12.146524</td>\n",
       "      <td>17.914762</td>\n",
       "      <td>78.075406</td>\n",
       "      <td>462.790196</td>\n",
       "      <td>0.092478</td>\n",
       "      <td>0.080085</td>\n",
       "      <td>0.046058</td>\n",
       "      <td>0.025717</td>\n",
       "      <td>0.174186</td>\n",
       "      <td>0.062867</td>\n",
       "      <td>...</td>\n",
       "      <td>13.379801</td>\n",
       "      <td>23.515070</td>\n",
       "      <td>87.005938</td>\n",
       "      <td>558.899440</td>\n",
       "      <td>0.124959</td>\n",
       "      <td>0.182673</td>\n",
       "      <td>0.166238</td>\n",
       "      <td>0.074444</td>\n",
       "      <td>0.270246</td>\n",
       "      <td>0.079442</td>\n",
       "    </tr>\n",
       "  </tbody>\n",
       "</table>\n",
       "<p>2 rows × 30 columns</p>\n",
       "</div>"
      ],
      "text/plain": [
       "       mean radius  mean texture  mean perimeter   mean area  mean smoothness  \\\n",
       "class                                                                           \n",
       "0        17.462830     21.604906      115.365377  978.376415         0.102898   \n",
       "1        12.146524     17.914762       78.075406  462.790196         0.092478   \n",
       "\n",
       "       mean compactness  mean concavity  mean concave points  mean symmetry  \\\n",
       "class                                                                         \n",
       "0              0.145188        0.160775             0.087990       0.192909   \n",
       "1              0.080085        0.046058             0.025717       0.174186   \n",
       "\n",
       "       mean fractal dimension  ...  worst radius  worst texture  \\\n",
       "class                          ...                                \n",
       "0                    0.062680  ...     21.134811      29.318208   \n",
       "1                    0.062867  ...     13.379801      23.515070   \n",
       "\n",
       "       worst perimeter   worst area  worst smoothness  worst compactness  \\\n",
       "class                                                                      \n",
       "0           141.370330  1422.286321          0.144845           0.374824   \n",
       "1            87.005938   558.899440          0.124959           0.182673   \n",
       "\n",
       "       worst concavity  worst concave points  worst symmetry  \\\n",
       "class                                                          \n",
       "0             0.450606              0.182237        0.323468   \n",
       "1             0.166238              0.074444        0.270246   \n",
       "\n",
       "       worst fractal dimension  \n",
       "class                           \n",
       "0                     0.091530  \n",
       "1                     0.079442  \n",
       "\n",
       "[2 rows x 30 columns]"
      ]
     },
     "execution_count": 12,
     "metadata": {},
     "output_type": "execute_result"
    }
   ],
   "source": [
    "data.groupby('class').mean()"
   ]
  },
  {
   "cell_type": "markdown",
   "metadata": {},
   "source": [
    "### Train Test Split"
   ]
  },
  {
   "cell_type": "code",
   "execution_count": 13,
   "metadata": {},
   "outputs": [],
   "source": [
    "from sklearn.model_selection import train_test_split"
   ]
  },
  {
   "cell_type": "code",
   "execution_count": 14,
   "metadata": {},
   "outputs": [],
   "source": [
    "X = data.drop('class',axis =1)\n",
    "Y = data['class']"
   ]
  },
  {
   "cell_type": "code",
   "execution_count": 15,
   "metadata": {},
   "outputs": [
    {
     "data": {
      "text/plain": [
       "pandas.core.frame.DataFrame"
      ]
     },
     "execution_count": 15,
     "metadata": {},
     "output_type": "execute_result"
    }
   ],
   "source": [
    "type(X)"
   ]
  },
  {
   "cell_type": "code",
   "execution_count": 16,
   "metadata": {},
   "outputs": [],
   "source": [
    "X_train, X_test, Y_train, Y_test = train_test_split(X, Y)"
   ]
  },
  {
   "cell_type": "code",
   "execution_count": 17,
   "metadata": {},
   "outputs": [
    {
     "name": "stdout",
     "output_type": "stream",
     "text": [
      "(569, 30) (426, 30) (143, 30)\n"
     ]
    }
   ],
   "source": [
    "print(X.shape, X_train.shape, X_test.shape)"
   ]
  },
  {
   "cell_type": "code",
   "execution_count": 18,
   "metadata": {
    "scrolled": false
   },
   "outputs": [
    {
     "name": "stdout",
     "output_type": "stream",
     "text": [
      "(569,) (426,) (143,)\n"
     ]
    }
   ],
   "source": [
    "print(Y.shape, Y_train.shape, Y_test.shape)"
   ]
  },
  {
   "cell_type": "code",
   "execution_count": 19,
   "metadata": {},
   "outputs": [],
   "source": [
    "X_train, X_test, Y_train, Y_test = train_test_split(X,Y, test_size =0.1)"
   ]
  },
  {
   "cell_type": "code",
   "execution_count": 20,
   "metadata": {
    "scrolled": true
   },
   "outputs": [
    {
     "name": "stdout",
     "output_type": "stream",
     "text": [
      "0.6274165202108963 0.625 0.6491228070175439\n"
     ]
    }
   ],
   "source": [
    "print(Y.mean(), Y_train.mean(), Y_test.mean())"
   ]
  },
  {
   "cell_type": "code",
   "execution_count": 21,
   "metadata": {},
   "outputs": [],
   "source": [
    "X_train, X_test, Y_train, Y_test = train_test_split(X,Y, test_size =0.1, stratify = Y)"
   ]
  },
  {
   "cell_type": "code",
   "execution_count": 22,
   "metadata": {
    "scrolled": true
   },
   "outputs": [
    {
     "name": "stdout",
     "output_type": "stream",
     "text": [
      "0.6274165202108963 0.626953125 0.631578947368421\n"
     ]
    }
   ],
   "source": [
    "print(Y.mean(), Y_train.mean(), Y_test.mean())"
   ]
  },
  {
   "cell_type": "code",
   "execution_count": null,
   "metadata": {},
   "outputs": [],
   "source": []
  },
  {
   "cell_type": "code",
   "execution_count": 23,
   "metadata": {},
   "outputs": [
    {
     "name": "stdout",
     "output_type": "stream",
     "text": [
      "mean radius                 14.100510\n",
      "mean texture                19.256836\n",
      "mean perimeter              91.817344\n",
      "mean area                  651.345898\n",
      "mean smoothness              0.096432\n",
      "mean compactness             0.104915\n",
      "mean concavity               0.089440\n",
      "mean concave points          0.048947\n",
      "mean symmetry                0.181555\n",
      "mean fractal dimension       0.062832\n",
      "radius error                 0.399542\n",
      "texture error                1.212055\n",
      "perimeter error              2.837052\n",
      "area error                  39.335439\n",
      "smoothness error             0.007018\n",
      "compactness error            0.025712\n",
      "concavity error              0.032470\n",
      "concave points error         0.011871\n",
      "symmetry error               0.020668\n",
      "fractal dimension error      0.003795\n",
      "worst radius                16.222734\n",
      "worst texture               25.637187\n",
      "worst perimeter            107.065000\n",
      "worst area                 874.154883\n",
      "worst smoothness             0.132316\n",
      "worst compactness            0.255588\n",
      "worst concavity              0.275398\n",
      "worst concave points         0.114834\n",
      "worst symmetry               0.291052\n",
      "worst fractal dimension      0.084020\n",
      "dtype: float64 mean radius                 14.367860\n",
      "mean texture                19.584386\n",
      "mean perimeter              93.331579\n",
      "mean area                  686.715789\n",
      "mean smoothness              0.095713\n",
      "mean compactness             0.099189\n",
      "mean concavity               0.083041\n",
      "mean concave points          0.048665\n",
      "mean symmetry                0.177633\n",
      "mean fractal dimension       0.062489\n",
      "radius error                 0.455740\n",
      "texture error                1.259954\n",
      "perimeter error              3.126612\n",
      "area error                  49.334263\n",
      "smoothness error             0.007247\n",
      "compactness error            0.023375\n",
      "concavity error              0.026713\n",
      "concave points error         0.011120\n",
      "symmetry error               0.019410\n",
      "fractal dimension error      0.003797\n",
      "worst radius                16.686474\n",
      "worst texture               26.036842\n",
      "worst perimeter            109.023684\n",
      "worst area                 938.324561\n",
      "worst smoothness             0.132842\n",
      "worst compactness            0.242381\n",
      "worst concavity              0.243355\n",
      "worst concave points         0.112565\n",
      "worst symmetry               0.281305\n",
      "worst fractal dimension      0.083283\n",
      "dtype: float64 mean radius                 14.127292\n",
      "mean texture                19.289649\n",
      "mean perimeter              91.969033\n",
      "mean area                  654.889104\n",
      "mean smoothness              0.096360\n",
      "mean compactness             0.104341\n",
      "mean concavity               0.088799\n",
      "mean concave points          0.048919\n",
      "mean symmetry                0.181162\n",
      "mean fractal dimension       0.062798\n",
      "radius error                 0.405172\n",
      "texture error                1.216853\n",
      "perimeter error              2.866059\n",
      "area error                  40.337079\n",
      "smoothness error             0.007041\n",
      "compactness error            0.025478\n",
      "concavity error              0.031894\n",
      "concave points error         0.011796\n",
      "symmetry error               0.020542\n",
      "fractal dimension error      0.003795\n",
      "worst radius                16.269190\n",
      "worst texture               25.677223\n",
      "worst perimeter            107.261213\n",
      "worst area                 880.583128\n",
      "worst smoothness             0.132369\n",
      "worst compactness            0.254265\n",
      "worst concavity              0.272188\n",
      "worst concave points         0.114606\n",
      "worst symmetry               0.290076\n",
      "worst fractal dimension      0.083946\n",
      "dtype: float64\n"
     ]
    }
   ],
   "source": [
    "print(X_train.mean(), X_test.mean(), X.mean())"
   ]
  },
  {
   "cell_type": "code",
   "execution_count": 24,
   "metadata": {},
   "outputs": [],
   "source": [
    "X_train, X_test, Y_train, Y_test = train_test_split(X,Y, test_size =0.1, stratify = Y, random_state=1)"
   ]
  },
  {
   "cell_type": "code",
   "execution_count": 25,
   "metadata": {},
   "outputs": [
    {
     "name": "stdout",
     "output_type": "stream",
     "text": [
      "mean radius                 14.058656\n",
      "mean texture                19.309668\n",
      "mean perimeter              91.530488\n",
      "mean area                  648.097266\n",
      "mean smoothness              0.096568\n",
      "mean compactness             0.105144\n",
      "mean concavity               0.089342\n",
      "mean concave points          0.048892\n",
      "mean symmetry                0.181961\n",
      "mean fractal dimension       0.062979\n",
      "radius error                 0.403659\n",
      "texture error                1.206856\n",
      "perimeter error              2.861173\n",
      "area error                  39.935506\n",
      "smoothness error             0.007067\n",
      "compactness error            0.025681\n",
      "concavity error              0.032328\n",
      "concave points error         0.011963\n",
      "symmetry error               0.020584\n",
      "fractal dimension error      0.003815\n",
      "worst radius                16.194275\n",
      "worst texture               25.644902\n",
      "worst perimeter            106.757715\n",
      "worst area                 871.647852\n",
      "worst smoothness             0.132592\n",
      "worst compactness            0.257415\n",
      "worst concavity              0.275623\n",
      "worst concave points         0.115454\n",
      "worst symmetry               0.291562\n",
      "worst fractal dimension      0.084402\n",
      "dtype: float64 mean radius                 14.743807\n",
      "mean texture                19.109825\n",
      "mean perimeter              95.908246\n",
      "mean area                  715.896491\n",
      "mean smoothness              0.094496\n",
      "mean compactness             0.097130\n",
      "mean concavity               0.083923\n",
      "mean concave points          0.049159\n",
      "mean symmetry                0.173981\n",
      "mean fractal dimension       0.061169\n",
      "radius error                 0.418767\n",
      "texture error                1.306656\n",
      "perimeter error              2.909946\n",
      "area error                  43.944193\n",
      "smoothness error             0.006809\n",
      "compactness error            0.023659\n",
      "concavity error              0.027989\n",
      "concave points error         0.010293\n",
      "symmetry error               0.020169\n",
      "fractal dimension error      0.003618\n",
      "worst radius                16.942105\n",
      "worst texture               25.967544\n",
      "worst perimeter            111.783860\n",
      "worst area                 960.843860\n",
      "worst smoothness             0.130357\n",
      "worst compactness            0.225973\n",
      "worst concavity              0.241340\n",
      "worst concave points         0.106994\n",
      "worst symmetry               0.276719\n",
      "worst fractal dimension      0.079852\n",
      "dtype: float64 mean radius                 14.127292\n",
      "mean texture                19.289649\n",
      "mean perimeter              91.969033\n",
      "mean area                  654.889104\n",
      "mean smoothness              0.096360\n",
      "mean compactness             0.104341\n",
      "mean concavity               0.088799\n",
      "mean concave points          0.048919\n",
      "mean symmetry                0.181162\n",
      "mean fractal dimension       0.062798\n",
      "radius error                 0.405172\n",
      "texture error                1.216853\n",
      "perimeter error              2.866059\n",
      "area error                  40.337079\n",
      "smoothness error             0.007041\n",
      "compactness error            0.025478\n",
      "concavity error              0.031894\n",
      "concave points error         0.011796\n",
      "symmetry error               0.020542\n",
      "fractal dimension error      0.003795\n",
      "worst radius                16.269190\n",
      "worst texture               25.677223\n",
      "worst perimeter            107.261213\n",
      "worst area                 880.583128\n",
      "worst smoothness             0.132369\n",
      "worst compactness            0.254265\n",
      "worst concavity              0.272188\n",
      "worst concave points         0.114606\n",
      "worst symmetry               0.290076\n",
      "worst fractal dimension      0.083946\n",
      "dtype: float64\n"
     ]
    }
   ],
   "source": [
    "print(X_train.mean(), X_test.mean(), X.mean())"
   ]
  },
  {
   "cell_type": "markdown",
   "metadata": {},
   "source": [
    "### Binarisation of input"
   ]
  },
  {
   "cell_type": "code",
   "execution_count": 26,
   "metadata": {},
   "outputs": [],
   "source": [
    "import matplotlib.pyplot as plt"
   ]
  },
  {
   "cell_type": "code",
   "execution_count": 27,
   "metadata": {},
   "outputs": [
    {
     "data": {
      "image/png": "[encoded data removed]",
      "text/plain": [
       "<Figure size 432x288 with 1 Axes>"
      ]
     },
     "metadata": {
      "needs_background": "light"
     },
     "output_type": "display_data"
    }
   ],
   "source": [
    "plt.plot(X_test.T, '*')\n",
    "plt.xticks(rotation='vertical')\n",
    "plt.show()"
   ]
  },
  {
   "cell_type": "code",
   "execution_count": 28,
   "metadata": {},
   "outputs": [],
   "source": [
    "X_binarised_3_train = X_train['mean area'].map(lambda x: 0 if x <1000 else 1)"
   ]
  },
  {
   "cell_type": "code",
   "execution_count": 29,
   "metadata": {},
   "outputs": [
    {
     "data": {
      "text/plain": [
       "[<matplotlib.lines.Line2D at 0x27d341a7fd0>]"
      ]
     },
     "execution_count": 29,
     "metadata": {},
     "output_type": "execute_result"
    },
    {
     "data": {
      "image/png": "[encoded data removed]",
      "text/plain": [
       "<Figure size 432x288 with 1 Axes>"
      ]
     },
     "metadata": {
      "needs_background": "light"
     },
     "output_type": "display_data"
    }
   ],
   "source": [
    "plt.plot(X_binarised_3_train,'*')"
   ]
  },
  {
   "cell_type": "code",
   "execution_count": 30,
   "metadata": {},
   "outputs": [],
   "source": [
    "# alternative method using pd.cut\n",
    "X_binarised_train = X_train.apply(pd.cut,bins =2, labels=[1,0])"
   ]
  },
  {
   "cell_type": "code",
   "execution_count": 31,
   "metadata": {},
   "outputs": [
    {
     "data": {
      "image/png": "[encoded data removed]",
      "text/plain": [
       "<Figure size 432x288 with 1 Axes>"
      ]
     },
     "metadata": {
      "needs_background": "light"
     },
     "output_type": "display_data"
    }
   ],
   "source": [
    "plt.plot(X_binarised_train.T,'*')\n",
    "plt.xticks(rotation='vertical')\n",
    "plt.show()"
   ]
  },
  {
   "cell_type": "code",
   "execution_count": 32,
   "metadata": {},
   "outputs": [],
   "source": [
    "X_binarised_test = X_test.apply(pd.cut,bins =2, labels=[1,0])"
   ]
  },
  {
   "cell_type": "code",
   "execution_count": 33,
   "metadata": {},
   "outputs": [
    {
     "data": {
      "text/plain": [
       "pandas.core.frame.DataFrame"
      ]
     },
     "execution_count": 33,
     "metadata": {},
     "output_type": "execute_result"
    }
   ],
   "source": [
    "type(X_binarised_test)"
   ]
  },
  {
   "cell_type": "code",
   "execution_count": 34,
   "metadata": {},
   "outputs": [],
   "source": [
    "X_binarised_test = X_binarised_test.values\n",
    "X_binarised_train = X_binarised_train.values"
   ]
  },
  {
   "cell_type": "code",
   "execution_count": 35,
   "metadata": {},
   "outputs": [
    {
     "data": {
      "text/plain": [
       "numpy.ndarray"
      ]
     },
     "execution_count": 35,
     "metadata": {},
     "output_type": "execute_result"
    }
   ],
   "source": [
    "type(X_binarised_test)"
   ]
  },
  {
   "cell_type": "markdown",
   "metadata": {},
   "source": [
    "### MP neuron model"
   ]
  },
  {
   "cell_type": "code",
   "execution_count": 36,
   "metadata": {},
   "outputs": [],
   "source": [
    "from random import randint"
   ]
  },
  {
   "cell_type": "code",
   "execution_count": 37,
   "metadata": {},
   "outputs": [
    {
     "data": {
      "text/plain": [
       "(512, 30)"
      ]
     },
     "execution_count": 37,
     "metadata": {},
     "output_type": "execute_result"
    }
   ],
   "source": [
    "X_binarised_train.shape"
   ]
  },
  {
   "cell_type": "code",
   "execution_count": 39,
   "metadata": {},
   "outputs": [
    {
     "name": "stdout",
     "output_type": "stream",
     "text": [
      "For row 467\n",
      "MP Neuron inference is malignant\n",
      "Ground truth is malignant\n"
     ]
    }
   ],
   "source": [
    "b = 3\n",
    "i =  randint(0,X_binarised_train.shape[0])\n",
    "print('For row', i)\n",
    "\n",
    "if (np.sum(X_binarised_train[100, :]) >=b):\n",
    "    print('MP Neuron inference is malignant')\n",
    "else:\n",
    "    print('MP Neuron inference is benign')\n",
    "\n",
    "if (Y_train[i] == 1):\n",
    "    print('Ground truth is malignant')\n",
    "else:\n",
    "    print('Ground truth is benign')"
   ]
  },
  {
   "cell_type": "code",
   "execution_count": 40,
   "metadata": {},
   "outputs": [
    {
     "name": "stdout",
     "output_type": "stream",
     "text": [
      "Accurate Rows: 321 0.626953125\n"
     ]
    }
   ],
   "source": [
    "b = 3\n",
    "\n",
    "y_pred_train=[]\n",
    "accurate_rows=0 \n",
    "\n",
    "for x,y in zip(X_binarised_train,Y_train):\n",
    "    y_pred = (np.sum(x) >=b)\n",
    "    y_pred_train.append(y_pred)\n",
    "    accurate_rows += (y == y_pred)         \n",
    "\n",
    "print(\"Accurate Rows:\", accurate_rows, accurate_rows/X_binarised_train.shape[0])"
   ]
  },
  {
   "cell_type": "code",
   "execution_count": 41,
   "metadata": {},
   "outputs": [
    {
     "name": "stdout",
     "output_type": "stream",
     "text": [
      "B Value: 0 0.626953125\n",
      "B Value: 1 0.626953125\n",
      "B Value: 2 0.626953125\n",
      "B Value: 3 0.626953125\n",
      "B Value: 4 0.626953125\n",
      "B Value: 5 0.626953125\n",
      "B Value: 6 0.626953125\n",
      "B Value: 7 0.626953125\n",
      "B Value: 8 0.626953125\n",
      "B Value: 9 0.626953125\n",
      "B Value: 10 0.626953125\n",
      "B Value: 11 0.626953125\n",
      "B Value: 12 0.626953125\n",
      "B Value: 13 0.626953125\n",
      "B Value: 14 0.630859375\n",
      "B Value: 15 0.6328125\n",
      "B Value: 16 0.642578125\n",
      "B Value: 17 0.6484375\n",
      "B Value: 18 0.65625\n",
      "B Value: 19 0.6640625\n",
      "B Value: 20 0.671875\n",
      "B Value: 21 0.6875\n",
      "B Value: 22 0.701171875\n",
      "B Value: 23 0.724609375\n",
      "B Value: 24 0.755859375\n",
      "B Value: 25 0.78515625\n",
      "B Value: 26 0.818359375\n",
      "B Value: 27 0.845703125\n",
      "B Value: 28 0.849609375\n",
      "B Value: 29 0.814453125\n",
      "B Value: 30 0.759765625\n"
     ]
    }
   ],
   "source": [
    "for b in range(X_binarised_train.shape[1] + 1):\n",
    "    y_pred_train=[]\n",
    "    accurate_rows=0 \n",
    "\n",
    "    for x,y in zip(X_binarised_train,Y_train):\n",
    "        y_pred = (np.sum(x) >=b)\n",
    "        y_pred_train.append(y_pred)\n",
    "        accurate_rows += (y == y_pred)         \n",
    "\n",
    "    print(\"B Value:\", b, accurate_rows/X_binarised_train.shape[0])"
   ]
  },
  {
   "cell_type": "code",
   "execution_count": 44,
   "metadata": {},
   "outputs": [],
   "source": [
    "from sklearn.metrics import accuracy_score"
   ]
  },
  {
   "cell_type": "code",
   "execution_count": 45,
   "metadata": {},
   "outputs": [
    {
     "data": {
      "text/plain": [
       "145    1\n",
       "272    0\n",
       "480    1\n",
       "463    1\n",
       "256    0\n",
       "Name: class, dtype: int32"
      ]
     },
     "execution_count": 45,
     "metadata": {},
     "output_type": "execute_result"
    }
   ],
   "source": [
    "Y_test.head()"
   ]
  },
  {
   "cell_type": "code",
   "execution_count": 46,
   "metadata": {},
   "outputs": [
    {
     "name": "stdout",
     "output_type": "stream",
     "text": [
      "28 0.7894736842105263\n"
     ]
    }
   ],
   "source": [
    "b = 28\n",
    "\n",
    "y_pred_test=[]\n",
    "\n",
    "for x in (X_binarised_test):\n",
    "    y_pred = (np.sum(x) >=b)\n",
    "    y_pred_test.append(y_pred)\n",
    "\n",
    "accuracy = accuracy_score(y_pred_test,Y_test)\n",
    "print(b,accuracy)"
   ]
  },
  {
   "cell_type": "markdown",
   "metadata": {},
   "source": [
    "### MP Neuron Class"
   ]
  },
  {
   "cell_type": "code",
   "execution_count": 47,
   "metadata": {},
   "outputs": [],
   "source": [
    "class MPNeuron:\n",
    "    \n",
    "    def __init__(self):\n",
    "        self.b = None\n",
    "        \n",
    "    def model(self,x):\n",
    "        return(sum(x) >= self.b)\n",
    "    \n",
    "    def predict(self,X):  \n",
    "        Y=[]\n",
    "        for x in X:\n",
    "            result = self.model(x)\n",
    "            Y.append(result)\n",
    "        return np.array(Y)\n",
    "    \n",
    "    def fit(self, X,Y):\n",
    "        accuracy ={}\n",
    "        for b in range(X.shape[1]+1):\n",
    "            self.b =b\n",
    "            Y_pred = self.predict(X)\n",
    "            accuracy[b] = accuracy_score(Y_pred, Y)\n",
    "        best_b = max(accuracy,key =accuracy.get)\n",
    "        self.b = best_b\n",
    "        \n",
    "        print('Optimal value of b is', best_b)\n",
    "        print('Highest accuracy is', accuracy[best_b])"
   ]
  },
  {
   "cell_type": "code",
   "execution_count": 48,
   "metadata": {},
   "outputs": [
    {
     "name": "stdout",
     "output_type": "stream",
     "text": [
      "Optimal value of b is 28\n",
      "Highest accuracy is 0.849609375\n"
     ]
    }
   ],
   "source": [
    "mp_neuron = MPNeuron()\n",
    "mp_neuron.fit(X_binarised_train,Y_train)"
   ]
  },
  {
   "cell_type": "code",
   "execution_count": 49,
   "metadata": {},
   "outputs": [],
   "source": [
    "Y_test_pred = mp_neuron.predict(X_binarised_test)\n",
    "accuracy_test = accuracy_score(Y_test_pred,Y_test)"
   ]
  },
  {
   "cell_type": "code",
   "execution_count": 50,
   "metadata": {
    "scrolled": true
   },
   "outputs": [
    {
     "name": "stdout",
     "output_type": "stream",
     "text": [
      "0.7894736842105263\n"
     ]
    }
   ],
   "source": [
    "print(accuracy_test)"
   ]
  },
  {
   "cell_type": "markdown",
   "metadata": {},
   "source": [
    "### Perceptron Class"
   ]
  },
  {
   "cell_type": "code",
   "execution_count": 51,
   "metadata": {},
   "outputs": [],
   "source": [
    "X_train = X_train.values\n",
    "X_test = X_test.values"
   ]
  },
  {
   "cell_type": "markdown",
   "metadata": {},
   "source": [
    "$y=1, \\mbox{if} \\sum_i w_i x_i >=b$\n",
    "\n",
    "$y=0, \\mbox{otherwise} $"
   ]
  },
  {
   "cell_type": "code",
   "execution_count": 52,
   "metadata": {},
   "outputs": [
    {
     "data": {
      "text/plain": [
       "array([1., 1., 1., 1., 1., 1., 1., 1., 1., 1., 1., 1., 1., 1., 1., 1., 1.,\n",
       "       1., 1., 1., 1., 1., 1., 1., 1., 1., 1., 1., 1., 1.])"
      ]
     },
     "execution_count": 52,
     "metadata": {},
     "output_type": "execute_result"
    }
   ],
   "source": [
    "np.ones(30)"
   ]
  },
  {
   "cell_type": "code",
   "execution_count": 53,
   "metadata": {},
   "outputs": [],
   "source": [
    "class Perceptron:\n",
    "    \n",
    "    def __init__(self):\n",
    "        self.w = None\n",
    "        self.b = None\n",
    "        \n",
    "    def model(self,x):\n",
    "        return 1 if (np.dot(self.w,x) >=self.b) else 0\n",
    "    \n",
    "    def predict(self,X):\n",
    "        Y =[]\n",
    "        for x in X:\n",
    "            result = self.model(x)\n",
    "            Y.append(result)\n",
    "        return np.array(Y)\n",
    "    \n",
    "    def fit(self,X,Y,epochs=1, lr=1):\n",
    "        \n",
    "        self.w = np.ones(X.shape[1])\n",
    "        self.b = 0\n",
    "        \n",
    "        accuracy = {}\n",
    "        max_accuracy = 0\n",
    "        \n",
    "        wt_matrix =[]\n",
    "        \n",
    "        for i in range(epochs):\n",
    "            for x, y in zip(X,Y):\n",
    "                y_pred = self.model(x)\n",
    "                if y ==1 and y_pred == 0:\n",
    "                    self.w = self.w + lr * x \n",
    "                    self.b = self.b - lr * 1\n",
    "                elif y ==0 and y_pred == 1:\n",
    "                    self.w = self.w - lr * x \n",
    "                    self.b = self.b + lr * 1\n",
    "            \n",
    "            wt_matrix.append(self.w)\n",
    "            \n",
    "            accuracy[i] = accuracy_score(self.predict(X),Y)\n",
    "            if(accuracy[i] > max_accuracy):\n",
    "                max_accuracy =accuracy[i]\n",
    "                chkptw = self.w\n",
    "                chkptb = self.b\n",
    "        \n",
    "        self.w = chkptw\n",
    "        self.b = chkptb\n",
    "        \n",
    "        print(max_accuracy)\n",
    "        \n",
    "        plt.plot(accuracy.values())\n",
    "        plt.ylim([0,1])\n",
    "        plt.show()\n",
    "        \n",
    "        return np.array(wt_matrix)\n",
    "        "
   ]
  },
  {
   "cell_type": "code",
   "execution_count": 54,
   "metadata": {},
   "outputs": [],
   "source": [
    "perceptron = Perceptron()"
   ]
  },
  {
   "cell_type": "code",
   "execution_count": 55,
   "metadata": {},
   "outputs": [
    {
     "name": "stdout",
     "output_type": "stream",
     "text": [
      "0.94921875\n"
     ]
    },
    {
     "data": {
      "image/png": "[encoded data removed]",
      "text/plain": [
       "<Figure size 432x288 with 1 Axes>"
      ]
     },
     "metadata": {
      "needs_background": "light"
     },
     "output_type": "display_data"
    }
   ],
   "source": [
    "wt_matrix = perceptron.fit(X_train,Y_train,10000,0.5)"
   ]
  },
  {
   "cell_type": "code",
   "execution_count": 56,
   "metadata": {
    "scrolled": false
   },
   "outputs": [
    {
     "name": "stdout",
     "output_type": "stream",
     "text": [
      "Accuracy Score: 0.9473684210526315\n"
     ]
    }
   ],
   "source": [
    "y_pred_test = perceptron.predict(X_test)\n",
    "print(\"Accuracy Score:\", accuracy_score(y_pred_test,Y_test))"
   ]
  },
  {
   "cell_type": "code",
   "execution_count": 57,
   "metadata": {},
   "outputs": [
    {
     "data": {
      "image/png": "[encoded data removed]",
      "text/plain": [
       "<Figure size 432x288 with 1 Axes>"
      ]
     },
     "metadata": {
      "needs_background": "light"
     },
     "output_type": "display_data"
    }
   ],
   "source": [
    "plt.plot(wt_matrix[-1,:])\n",
    "plt.show()"
   ]
  },
  {
   "cell_type": "code",
   "execution_count": 58,
   "metadata": {},
   "outputs": [],
   "source": [
    "%matplotlib inline\n",
    "from matplotlib import animation,rc\n",
    "from IPython.display import HTML"
   ]
  },
  {
   "cell_type": "code",
   "execution_count": 59,
   "metadata": {},
   "outputs": [
    {
     "data": {
      "image/png": "[encoded data removed]",
      "text/plain": [
       "<Figure size 432x288 with 1 Axes>"
      ]
     },
     "metadata": {
      "needs_background": "light"
     },
     "output_type": "display_data"
    }
   ],
   "source": [
    "# First set up the figure, the axis, and the plot element we want to animate\n",
    "fig,ax = plt.subplots()\n",
    "\n",
    "ax.set_xlim((0,wt_matrix.shape[1]))\n",
    "ax.set_ylim((-15000,25000))\n",
    "\n",
    "line, = ax.plot([], [], lw=2)"
   ]
  },
  {
   "cell_type": "code",
   "execution_count": 60,
   "metadata": {},
   "outputs": [],
   "source": [
    "# animation function. This is called sequentially\n",
    "def animate(i):\n",
    "    x = list(range(wt_matrix.shape[1]))\n",
    "    y = wt_matrix[i, :]\n",
    "    line.set_data(x, y)\n",
    "    return (line,)"
   ]
  },
  {
   "cell_type": "code",
   "execution_count": 61,
   "metadata": {},
   "outputs": [],
   "source": [
    "# call the animator. blit=True means only re-draw the parts that have changed.\n",
    "anim = animation.FuncAnimation(fig, animate, frames=100, interval=200, blit=True)"
   ]
  },
  {
   "cell_type": "code",
   "execution_count": 62,
   "metadata": {
    "scrolled": true
   },
   "outputs": [
    {
     "data": {
      "text/html": [
       "<video width=\"432\" height=\"288\" controls autoplay loop>\n",
       "  <source type=\"video/mp4\" src=\"data:video/mp4;base64,AAAAHGZ0eXBNNFYgAAACAGlzb21pc28yYXZjMQAAAAhmcmVlAABm7G1kYXQAAAKtBgX//6ncRem9\n",
       "5tlIt5Ys2CDZI+7veDI2NCAtIGNvcmUgMTU4IHIyOTg0IDM3NTlmY2IgLSBILjI2NC9NUEVHLTQg\n",
       "QVZDIGNvZGVjIC0gQ29weWxlZnQgMjAwMy0yMDE5IC0gaHR0cDovL3d3dy52aWRlb2xhbi5vcmcv\n",
       "eDI2NC5odG1sIC0gb3B0aW9uczogY2FiYWM9MSByZWY9MyBkZWJsb2NrPTE6MDowIGFuYWx5c2U9\n",
       "MHgzOjB4MTEzIG1lPWhleCBzdWJtZT03IHBzeT0xIHBzeV9yZD0xLjAwOjAuMDAgbWl4ZWRfcmVm\n",
       "PTEgbWVfcmFuZ2U9MTYgY2hyb21hX21lPTEgdHJlbGxpcz0xIDh4OGRjdD0xIGNxbT0wIGRlYWR6\n",
       "b25lPTIxLDExIGZhc3RfcHNraXA9MSBjaHJvbWFfcXBfb2Zmc2V0PS0yIHRocmVhZHM9NiBsb29r\n",
       "YWhlYWRfdGhyZWFkcz0xIHNsaWNlZF90aHJlYWRzPTAgbnI9MCBkZWNpbWF0ZT0xIGludGVybGFj\n",
       "ZWQ9MCBibHVyYXlfY29tcGF0PTAgY29uc3RyYWluZWRfaW50cmE9MCBiZnJhbWVzPTMgYl9weXJh\n",
       "bWlkPTIgYl9hZGFwdD0xIGJfYmlhcz0wIGRpcmVjdD0xIHdlaWdodGI9MSBvcGVuX2dvcD0wIHdl\n",
       "aWdodHA9MiBrZXlpbnQ9MjUwIGtleWludF9taW49NSBzY2VuZWN1dD00MCBpbnRyYV9yZWZyZXNo\n",
       "PTAgcmNfbG9va2FoZWFkPTQwIHJjPWNyZiBtYnRyZWU9MSBjcmY9MjMuMCBxY29tcD0wLjYwIHFw\n",
       "bWluPTAgcXBtYXg9NjkgcXBzdGVwPTQgaXBfcmF0aW89MS40MCBhcT0xOjEuMDAAgAAAEWZliIQA\n",
       "Ev/+963fgU3AQO1rulc4tMurlDQ9UfaUpni2SAAAAwADlGX8OsidmA88y6GZ/02b2g1gjvLPJxTy\n",
       "2fmUGzfV9ZvyIPYmqrCcmekF02fBENtN882c8j8QE2tyBs1WnoR/slNLhn5TRelWS/9cLLoFcr7H\n",
       "HJ7V73RnK6L+vkur0JyIhZgUMylsNCquiOqCQgufLd5vh8AY182tdKQgAAAwDkvngP/Sk5uJltM6\n",
       "T6El6Uorq96bB3NOMSm7leEkpMZgbphOlMU7kfQtTXUfBZBA5V3Z+azPkbt3VqPcE88+pQZw6OyF\n",
       "qXgJ+90CE7YfQXusriCgEKw0n/uFWSla1NMyfD4XNwTmo1Q2VXzG0tENoU4xHswT+//oNDiBNPoM\n",
       "yafkS95t+mjRkHzqvdkM9Uae9vHDlMFGHpCUGXKsc20VxR2elMKEDK/MiKc7ZFGuGYDnu8AZp4/y\n",
       "YhG38x0pIQb6CgM2p1uEU6TS8Zs5JG+mmYCXcWOeOjn3MQKqbczUtyzZWaATeqT8/N6Avnx6JG3I\n",
       "cyZngvIn/4kgpzJPVf5kK8K9WpBAxKY4Llmxk1pgYFAAFUAvssG7wjcBA289ZmxtPm9C0dPHWjwC\n",
       "FaCMGZSMIpFQFC2iRH76aUP73FfMVEP5Nsb1xB7BirVndn01/3sDyCUsCnZtkoWe0YbHds25bq5N\n",
       "FZj4Ap/8wYMkqt/u9EDMYrikt1RYHtR9eC1OA5mP8bnsY7XSfcN7kSw+BaUHikYjPwM4nx5bTjHL\n",
       "wCdj6mkDgyL+rWlJ+hnqGAPrYv177/YAAcKZkBQOdQnaWA5AfXZxpIw6zPkU6W4a6LqVfAsRf0Bc\n",
       "j0ekdZUvHls4NyY+6QZqLZKkWUVv9qEF7oIQZuq/1boE+D+lVHWpzF6HBk4ABb11V+u/AidwUxSd\n",
       "DAP3dGCxfPh4PQtzL7Hucjnx5KPuh6ScLhM0ke7bj/tMNlJWWxXD+/eFt3LXkas2vSuraHio64BT\n",
       "gWYOoq4pReeLTA11IPZSxwndxITvEvhXV3l7SRsOjWPW2h25wUh8vYnt7VX5isA4dDKAI6AI78VK\n",
       "yQ/fanCnGYlqMsD4Uvhd6jHLMu6WlxgKgN8blnru5psUB6/f3+IACDD6GEQ8L1it2niaG/2Vo6m3\n",
       "/qk46TBSUE6PYCUYkOIbEl1htMj1Oze0g30+sKEobuAORcxmd+PXK4gHSui7eGwxb92ehr/hViwX\n",
       "LOzlsUPcXG80W8ac9YQJqXQtIr7pU8K6vNBlFEOYWAkta3SV1swcf8TPiCyeXE3g23kzOzMCcnVK\n",
       "hS9s1e0sL1dZAZjPh2BR14Li5rH3j5AQ8n4XOkldxYPbJ2gAgjuQyJ75+iK89IE/88jMjdLuvEQF\n",
       "Kesy6A9hHoxV56eZPgUaTdxSlXyNnn7X07ahiiK3ybJAVdySpPTIYD+WtS3HGPP0OpS6dA3+d9PQ\n",
       "Go21zMAErTzuMagHn8P00wGwQQUdevF4J8wsd6SmckOyoxtUc5l9cdJ8aAPjawYWANMcJvvdo2wk\n",
       "xCdFLZRwH5vlsaC5j8ScKmaqi5F+gDi4H8ZrNo8SZfWxbDj32bXbDOPZhFZMwsYS8kITq4zHe4v2\n",
       "LTiYUAAAHqqKEqBdyb8bazNssgp41CQkaVcHaj3sZCIzWOewGXAtyWnCFrVJ2zZ73E0Z+I+KcwmR\n",
       "LsyCtMPIP6mRvxm4r46WZXeYuA8RsAE671T8oNAACz+N0QihG1irdmg5OMP0dokFLCQEUjj21MuX\n",
       "fu+OsFzOC8PgIn0P1Uiw/MTJoq1hV8WbG31GkJ44ZBDJ2FjXkaHawzyxPcu5DDOWcTZUiuOvGxHL\n",
       "BLPWfH9VFPyhs3gF9qg4ZtTbt4EDxbFeDyeoRG8zuT5V/A4whgiIFqq08DSoYQ5Ecm4PVDG3k9o9\n",
       "3hp3aT/PynEnhsl/MN4hdOQl+OyOHRUInQlTI+/yYg5oLE9np7BurdUjF6ZDJkwnC5kJJrh7qurt\n",
       "TFjo7bBndW+UaxaYfhUUJnPPbqusj46KWYsymWD4yBuXntapCVwci0RjvngwjxRHmPIDYK6nl0N8\n",
       "DqeP99DalviGXoinzbFrnRzmV/CcA6qwtAKLd7C4eJOeNXVCRDupqQXQim+opixe5cmh78On4fvi\n",
       "XFYQ81sn978iGXoOZ8ALTYCy2eDbE+G68ARqi82araRZ8UKl7+X/7rzu3x6t937E/3KAKw1SY+En\n",
       "LUw3U6PbM1xoQ6aMYokgyjPmim0xvWIxRRPzkF9Acw+oR5iXLgOe0hDqbD8xj3+g64yqEKYNI2lz\n",
       "rpeCzqq5Aujyn7XWv8eKfXAiKH1pBqehUSD06b2X/Zru6mEi8NSUwYt5rXdSZvB1qMLRyXkgADUV\n",
       "0vpdyDPT22J4oilc6E9ReEPhTgu7FZyAEXgaO4EopFT7+iFo4Op5dXObXqM2JtVEkiLhui0q4LqK\n",
       "K8OUAauCWoKhVqaTAk9rc017avk6RFxqrueh9xfJU/No/MkNqND8JxbBKWhsUdS6Em5p/YI1226d\n",
       "CdYSiO3mtlNnHsvayUMUKFaFs2vkaWJakAoKULP9JsLCp/D0bNqU+6yRjjpXycOYWdf/NO0EM2JO\n",
       "9Nj968Jq8l4Tg02GmMEGkcLDutGGWd/KOo+QM1S7UP1wUtkk8upFCrHNCjx1zX3dGBd9aZRx2M6h\n",
       "GYLE6pQ8XUnr5P41+YUEjfRUR0/jzfu+UDeZShZyeZI+u6dETBPKu2o+RLPbR6+Omz2zy+aYUZ7j\n",
       "NiHmtAkcmf+NSIwXMxFDrdYjBUoe4OZ2VBU3guaOgGt9IQg+tB5HrMwce2Qa7Ak7heiqVrThz25U\n",
       "8gs545uOLLR1i7vEaEqBlVwNNYM8Hyimu8ttzfQ+wHRM4o0lLAcodXubXdzNdN1MWHI3+3t9syuO\n",
       "o9aA//VVk6zXf+1onlsnVnbByN/6P5etetlz5f32tC4/VelCTFlVzhEkM/cmX0xPsd6vy6p////E\n",
       "gU0+/MVdW8cmOdGKq1XsvMQkHa7gZI3dnK4KyB8vG7Eha0zyVAMPqnz/0EuQ1+nHOcTT/gtDFL3v\n",
       "Qag1bvTXrd3ZsIvMmdNS+EpzXyc6Oyf0apNEkJ2DhRgLKrrAox38o7IG17ZOao8vOE8VGRysZe0u\n",
       "G2IMAxWIhAVJEWtjbxMwExGVXKXlo0ni2QAhs9ivJWxQUZg7mqNpxTg8xhmKj41m4j2QHKbeCKHY\n",
       "ApSgG8WBtf2ekK/sfdX8nj97MLLtY1vh1oz0JjvG8nCHUYvVLhmuy3yrLAlSyIfcCwlyatBLIu8y\n",
       "mlstje9kpHvvn489CrVPgrrjiI6fWWYtyKFplp1KSsyGy8VhtQnQAo3nSrZhrtafS5RBAVXmYwHJ\n",
       "u7okUpRenk4qjpc71VlRSbaoNC8aUHBkyC7egDpPk44K3YuHOm5T7TAL4XUDAOaTO/nGx+ced177\n",
       "/zuFJNod6vn/2kcZ16yVbe+wU1C484ZFzmUllYQfzcOpZnTmywQq7Ov/SSssE7Jd2w2FMMLb/buK\n",
       "GRtwXT2DKA6TqrnNYA2EhWXv88ixiFeHaprgow6B/jJ31RZmq+/taxgzw+8yiisAIw/bE/87bGR/\n",
       "m0S1CywuOLIPETCJI4zuwoAuX4F6n1LYuPtNSOmjJg4aF0iDk8E+8WKMZiuFiFwfzGtet8rSLG4L\n",
       "C+ik4X8IoFFc0sr3xPbvN3JU1l4kJyJRCwiqGETeBt5KXRNlMh7DMmoyFvzz5Cco7DYHcpn/rv/F\n",
       "kkh53XxY7fQACziin+Hip59lEisEjYOIdHG6lQqipGGXHrAYSY1T1Gm+FnL1yarQMVNjyeJe7zIe\n",
       "UzX9Pzg4gXgRPsyoDUmL6na9cmKI3uJnSCEKkCyWVBrNHGcFOQ9g4MQlcBG1QY1z0X0a0Xo5lTkd\n",
       "UKcy3wAzpwOn3Hj8G4Uepi9wAIzBmy6ASCCohvEa6cRdaZXaWrNZ8FCYD1uIg4Tq5vsW5ZcO57Ly\n",
       "dPAIZnyM9I0zjWdcgbzcfwvrILuEnp5sisgaF3guqClumnFn5lT44+M2iPwgh55XzUqfCmFQeOAU\n",
       "UFrdwhc9jDquoSOFeDsyfFYwTtZ0NC9l2loEgPffSy25lbFcA8PIABDkRmFTv+SRWxICrljulUAF\n",
       "adid69QDrz+DbDpN0cT+dFcyNIHSCwE4zxTEWiDNJO9gzAqxPBKN9Farixu0GanL3Kj84SA38A02\n",
       "64rATGuhj2ouNocYv+Q6vaIlugNS/H48zRorzDrw1p42FrGnBJIZXFZf4GdDgxCuAuU95nz6aZee\n",
       "q5tcoV2QFVKWbIud8LxpHSXgyXQMmXD3+H79Aw7a4R1rmkgR7RV5AX3ONGgFZwAUDIutxDBNfRZ3\n",
       "TfjPog4za18B+5QghwJPMvEZVCrXsWlvYXzet4CBjtIMQCV5zYCqkFdMOo2xPyCRol8tMT6oCk0z\n",
       "d++xDBOvCfIYV/jPAvPZS1Y2hTo6vyEj+enEH6UdmwmpBgFRYPUrJT5LD35imtb43c8QETs2MWd9\n",
       "WeDLZrDwmne6/yIrSU4kWczrQpPFNWtFWNC0BW73CMMTv6PlsqKUik8XwPt3n2CKhio5M8/+aja+\n",
       "kef/NXxt9teoq4/YpPsI+SmwWvIhPwXsLEljp+JssKmmFFdXgl9ZPdvgU5ISbkyZb5g/+SmTciB6\n",
       "LDqutkSRM90tCJQK6fRJvN1dBz+aeq951It6fYKvZh/5FdxQ8DDpGpgPr75VWKV8mce5jdMXjCUR\n",
       "sCZAzH+SMCwHmxvHhfbwcecAQZmLtuhLfvlNXM1leIeX+H+kduyNAaeCy12Ek7PpU+Mcgx6Np/sD\n",
       "krZzo/m2Cveu43xjkGPRtQrI3lo3Cw91LYSkjfpJ7X4xysWuMF46PAhGSV357tm1cYwVRISi68Fv\n",
       "zJA+edXam7jamSOsls44oAmU5Vd1iu17spNUu9J1dj/bXtlWD4/gK2W5/imMcYe/2j58JS8dAQIV\n",
       "3hUAKVdWXq9flTAqsy5Qk00OEf1IlasEjAfN2SMYMXjTj4hzGZ0FKLZwGmhXhmk4cM9m9uzhBLt1\n",
       "bLP/M/Thir9w/NsqrnCK+65M0W2kazX6kA+Uf5sdeguxTaH9Tdk8ukYw7itpr2FM0lrQrkPNTBqC\n",
       "f/ANFxn+tjeWT2vjBVrxmPpT/gwnT1j5bR45ESa+oYGBODvNWD5wzrWrR8V+PUyuqbYw05HWZj1n\n",
       "ZJvoiwDhnhygwc4jGF3AQHoJhV8xfK/EpCHXZnQ8aCfPViBrsity6ktaSD4GeDh+oYfYD5fbARvB\n",
       "HMHuBK+tUajQJzACbsYq/Ekpt2fwvJtN6A36oQxQ0rVY2r+1024o2ieUIE4JkusGb1Vd9hw2xeof\n",
       "5KVd1Gv9n85PGdjf2nNJDPfHtSeqJcmKOPcPq3YmerODhyi5RCi0lzL7mOmAWULZXcLJ0ZlmtECK\n",
       "GIoXkCMt8/cd1uTj560QsSlPALeK+Rz3G+pcF6ivOB9ciqaOxOQylaXlUdo8NRwY3cWFmzu9XzB0\n",
       "QlSF2zcFFneWoIZe0CEkfyGsd2AIRS2VsPcazTBg81mVX/9qGGcyhqaghWTS7DP/feJA/inO7EYx\n",
       "v0XJhWHgIakwqIzfN3/8PwjYdFLt7AKjbIs0Sfgadx8qr96iu058BsscI1mTPiuL35z1Ga+lVB8y\n",
       "YivBORFxE8OPkl1fJjoSdOeNpH/eU8YxpmtfFXZFu+8ACTckGOzb2XNVa4B1VYYSXm5G20hyGx/I\n",
       "PZLav/M/VjS31/kF8+mu3GCDGHaaUKbP2w1iyPvRW5OYpBMeqR7ZdwE0uWr3+9n5wgOsz8prpXRq\n",
       "d0GJRL7X+uK7B73YqVBZ10SdmGS7ROyXmjk3K1HIRTrwp4OkFyDBOzvUJBo7oxAQ0GF2fddn4ePu\n",
       "mnWCLnOnsB6rPVp79ET5Ifre9c3vVGQebCplPEZ/dIiTzoP7MS/OT9MkaBo5d7b1nu/JHQABAVHV\n",
       "QAATUQAAAz9BmiFsQT/+tSqAA7rmHABy3HeCu3L7emZ+iZPauJLTPTGZca+aWltU6nSO0ilZkR6O\n",
       "61I8QGmPinbKe6u+h+9wZnwnuboj0Lt49Xx32ii+aRrCciLe1sJQX2Kv/nq8t/oHf0Tyzk5J7HO/\n",
       "ccrnU2BnHCxJPy9R2evhzaAjK8CwP6jga0IWoYK2+3bMG5MicGVuGb/r3nu+dPSX0KYLpBQY3xQC\n",
       "7hivNzaym+92EC8bwqijryLn57K5B3AZYadI4D8KDuKlvjA0u4ZTexe714VcRRF2z/iAEYgm+M2c\n",
       "0wBYivztphoP3iYT+q0EpX0URnkMJxb29w3huh8ztKu+F4SNS4aEyT9IuDXkoZSiBifeOphbz69v\n",
       "uoCfDfu0L9X7zvb9UBRABXtHx+NyWs4G7qk1FZYr0Q94mad4mwbMRoXP0GgSI9MRnSini6jU4iwT\n",
       "x3A+BBcqyVUbOLBb72Cu10znHXUpv8ynb9/6Qdau8qfK06+TYNSBI6bTeq6ZSP/MR0gB4JouBYRa\n",
       "bmwKBYuXau/5DJzmCqVY2o88AmH3G7jWgd+r5OmK8WHcQeuCEePidhawU/RhT60Amw2Fxs2e3qbZ\n",
       "1sgqoPid59lupU/vPCCemnegQD8F8QWOxalNBhIjZi/OAi1/866hecuro/iaZVh/VUc39GFpHobR\n",
       "z95MzkqzvABIZGVKmvV9KAQ2tACpvg3f//hRo3F0D0yM5CraNaBVwwu0dtFLfmpJPnQoQJ1oDGgZ\n",
       "i+mO6CahUj1K7/zAxp7TQ+zZ6iczkUA82k62Q61eB3Mwt6sji2ZEGoeGqi96YGMwi54jBg9Lj4Yg\n",
       "50LdqpQGHFOYz9joWKFJ0Y3/zz7hVPiB0cL4tze4asLk8MazPWGUvn//seCqRRl5L/o4CDXYEkLD\n",
       "3Rp3faDzlW4+OyeIDRkTHDJMMn0ONAuR0vsPju60ZH9h2QdjHCyudIN7Hl8Ukn32z/nUd23Ff5JH\n",
       "4nS/RqgKHlc2mhkB/4BG/w66ljRcrlQNBCMyvP0oixP3mS7TreZyatSZFfWlnbRon4+jNC0X+D8S\n",
       "68yt/JPD/QHe6cOoHQChZPCcZUY5MTf6FtKplX0H6fsOq6P21Id3OaAAAAN6QZpDPCGTKYQT//61\n",
       "KoAAN5OjsUwMo7dAEZNmCziESw05WibGfWbeCVQETMTG1GBhQAq0IRqAnsA4YVW52qT5SMFByRvr\n",
       "fHR0Cj15elsHeXJIYLlLrt/HFA1+AYm3VAJ6RN8h3leFHVKbXxnrHuo7Kd4+Xog66+nAZJjG/e7r\n",
       "MOfw355j6fLuTXmRNDfabLym8kx1dab8BESFh0UwfY+q9vEkT5Rma21jhJT1nAmIDR32ImWyEeKa\n",
       "7jM2uF7Q9ZBxY3ZpMQuLpYOW6sajVznnDojK6NTAEkBLb+JF344Vl6xGsEte3EuPyzas2crHBCKz\n",
       "enhTjAdQKp+/dpFc6h/UOEg8g4luEjSoJm/VoPXcHFPY3KKHvT2p7Wy6KAe5I/nn2qluLIYyrT0C\n",
       "8zzq4wbe8Fqw5YJcoU7SK1AYObPy2H66sqlEyVlf+5y1fGJzdWZp44PYkwP0MKb1yVP2BG7CXWAf\n",
       "phGuvFmst1T6npV8JoM6klHOK4jxSVzdTl5BAXKYJ76SVgjYy9zsvzkUgSxwmyV6/HwlRnuCPSAH\n",
       "LY2kcJybhfzrt0FrKEPSltynMyxa8IA3AoI0HRVsqsVOvJ+xi1kigMd+a8DRo2ZnmcBFvFd1MBB6\n",
       "JDct9nAn4bAdnKXI99pyHPM5/vRqbfmjcZpNCftXNqceiHDr1enAOqkFLYkGwY/fyY+zoXLGcm6Q\n",
       "DiJv1EnieEfDXfdkDy/0V51SE/yojc1nMBr96lv+0bheXGM69xzbQhY4UX/ozIQewAeJYhnlTKfH\n",
       "fcLFrrbA/owhnVLaC6+HRGrX+ZS2jTxHzkXpTwGTIILemLofJ0qZwSYQ9pZekbQlBaVBHFC4O/JK\n",
       "FBPpjsUcgxmSE0zZ/r+a0LNm50mlfVJgjxqTJdM0ZvYWb0YzuNz5QDmMSZ1AdLjah3rQH/dqla/z\n",
       "0MousNCaSfe8DeDFJw0AxH4l6A4N2Rma/9Om4ZfaV5HQPFu9PVnO95Hi5uPfBQHRNybs9NHt8+fD\n",
       "xzIexAIbPy3uKgGIgARoP7LZ9zJUw+SE7FD5m8ALHD/Ah/3gOhctM5/Qm2LHGf1WKjHTP0i2YM/c\n",
       "zxlR0ZgFvL1p/265HuzfBunRU9fkRDsN334J3kmjh5yAUgx5gR30xLU56q3pE7wVf+zEXMPeh8TK\n",
       "yKDnF5l3sfcNuO8z2MnUGAjDZcIuExUAAAC3AZ5iakP/AAVBdLiCVfL5FYuDewAj789ZdQU17PDt\n",
       "U8nGDwhT21uCMdbI1nlxSLUcYO2DsB46vUTOctU8vrvEzp5KRTRuPFOg4yEUUUS0LB+DpnlE5s7O\n",
       "XjryE0rCTzOmXAR7wXdIWxfquq1vnEaRmMNq2l/VSwb1UoD99Tp0zyh/CA3+DsOgw8A4ooMYyDro\n",
       "deLHHtGw/Pl2hiC2z9QP00gJrgQTjKYfEuSPIdd0fYt8OUr+ettQAAAB/kGaZEnhDyZTAgp//taM\n",
       "sAAORcP0rAABLLl/gWn7Tt1sAd4zQZK64uk0u3KzZeHJ3+T5ihGGVE/+In//R1/PCkyAp2LDz9uw\n",
       "WwOKKz5iyCRXtdPmA5ZLjsVYmEVw4SEeVu7ePjmLcO/l0I7TKHPvLHWzRPvyksQFuvxHBfWP4VCT\n",
       "CXmyySbHnaoLrgOxQEFSKVycQZSmDaD6YHEaEb9HX7PKcZ5rZAqcl/gp7/UttITcZHUeFFFGSDXf\n",
       "BmmDslyGQfEwW2qLjFDgSl3nRU6cQ5hrXZaHF469Jf9+LOdCh8dsW/KoqR8ai/1jQO7dDLfyty4S\n",
       "iuPsTIXAmL5RqMV4l1uykDIi0a7KGSPEKzj9h0Kggibrj9Rpm64bo/jnxFCQxip/PifS65LS3oAE\n",
       "uFzqJKvM6GW5iHR2vlIqDka2+svYr8HdwHbTZhIA1T2Vz4YZosix3ivWYTUQAYWvNzZjBy4owdkC\n",
       "hA575NhtwCAtFXTKxziZA9qpcu4RVlrRGM5NY0Fa6L3pFC8NEFmVKURhUKvUkhLkiMInYY55Q5qq\n",
       "vhkMmmPE+SQi2FGmMP8QHmCftwm4FVz3JyqyxlNiB3Rgvq7P4Yg5ogsjBZuDvN3D6rtfcsBGz/8V\n",
       "yLNFwkbDh4iWxJQG5zexoNijztGkx3eoJ1SJ9JhKuc3NEWlpUfPCvwAAA7ZBmohJ4Q8mUwIJ//61\n",
       "KoAAN5M1+eBZ6yHtSiAArejZdGZXrHPK8o7sn/crRwJjgMfMdaORBmSP/TtXRfUDl9hHBGwNyF9j\n",
       "uCYQ4ptWnPMircglcXDn0TscYb3P+fSK5zd1HZR/P56l843o3Njs31nlJIiGWaUZpYjDWj7rhgz7\n",
       "tRAHVAu81U94Qo2GfGLi8hcOGgW0rgYx7SptQtSm1VWe8z89+a38Cd7uLyx52EKli+ltZucFvu5b\n",
       "kVC5VWd0z01TuenWRfNpDpHRLpnNPUAdUDaNxYSebzV3rVM5ck4LH2P0DFE5js1KhViEaJhfjY3O\n",
       "+gSlffL9rV1htWHjZC6b9uz+r9bXJ3oMIKWfbJD5OSYKnWGsFOyBuEc+FkQx63Pd+HxR4F7Cpo+D\n",
       "1JanuQzwXE+B0bX7cwuS8zwZzvKV/hrmBzpxCsYeNu00qG44xCdKwS+41kXelWeH1RtB7vcPGb0a\n",
       "yYlYixt4n7SAhigexFZ5JiHRVFUCZ22n7pPgE2bt4UbluvNt55LdRD3iGl2cZGpk9+MdGmT5W0vY\n",
       "LO+toAUuAwgnPRXN4htNuTkFMJlQLPWBEYBxpam+P3PCY+8z+mAf6wRQIF8bOufV1gFtDODTGH5x\n",
       "fdB5ChXnyzSlbdx6k56uufvpohGFNWmkibgBDIk+3fqQKH0UCdA8hih0TI3tuk7Zu3w/G/c5E9Wl\n",
       "3KEYIU/aqs4lh303uoL6wo/UcL2Yu6b4RJ5GeACBWvC2zwYSN9JklG7xJhYHD4eWY1CEtj9R4kJU\n",
       "cg4YPY6cdO+7MCRiHqHv3jqtCuletma1x3B+xYwQiHxdby4+aMZCNt7qTCyOU7zpj0NpXcHyDEgA\n",
       "RsHLstb6z+gzkpsaENnApZyxIudPhkLhEy8+3F782nL9I5V5t3LYbEvgB/chzENZG/SKgWWPjIfC\n",
       "5RWj9TACZmLMNfx3oNU+B8R6iibkAzUZABbpzkXgGhHgbrTt9XCRXdi1tN5rZsNeGB5U/CAiMnV9\n",
       "mV3JcIUV5oFMbxdhmAqCeDuCQvRlzf0KPclxCaO+DOeleWlE/ys0sbixWpNrRkdzWEGMVPkN34St\n",
       "wBmB23VHeb8/rKnFPrK3gj0j8G6Fk4v0ttDK/81uBNKxLYFfISoiUf7x2WY0V/3NeKf/J1lahZks\n",
       "105Cu7DIXYDT14A+HFqI0rMrqLMRvf4nXLSJcQRPl0fOs646dBhzBhOeNVatgg73ccXi1EDbZ1yY\n",
       "Grdt5njGoi14fBV4Asggx89GXz2+XWzwIQAAAK9BnqZFETwQ/wAARLDnX+5yU75gAtrAHN/UA1jv\n",
       "LdWrj6f3iZHTIZGApUTg3QQmsIxVCHroulFpMoxIP41BCFGosHsU3XkXbJ47s4ItdViEwy7xUeCH\n",
       "kPoeVv6+SG1ab+NhG+fdCRTZlTXFQraeUUKMaaVBkYlW6e4sJqILT7nxU/JSaY/zw8Sd54h386U4\n",
       "c9E257HY6SEYBgasE/+fyDHcUUSMeOS+yULV0KA2nX3BAAAAcAGexXRD/wABNYzZCKzbL7f/zh5B\n",
       "lCpRAC3DYA6fFO+iGD+vCIMMA7ASPm0tsypRy0yrixkspNtmN9ij4BQjGc7lWAtcNQ2LXbjCtIaF\n",
       "CO+EeMy+I1drfmkMv0mxn5A2QrdNPVIABylckKDkELJL7OEAAABZAZ7HakP/AAE1aQ+k8OoR1BYq\n",
       "WkxeAEsRAmOcFdT9pVn0yCQ/waAa1YKyz/YcS34syavjB3HM7A869BKy1L9ShXyYQ692hF3pz9hi\n",
       "NEZTy9qNeFw5cv1bEggAAALsQZrLSahBaJlMCCn//taMsAAcjXMiiwBQGc3kh1/9qghYhnhfNBt7\n",
       "3oz8nEDJVJkH+kMQ57hrIr63HWlsybx65MiRH/ovpaIUrySDFsm7ue379v74DTJl1itKxR9CJ6n8\n",
       "fft1hSNsmy1am9kcgfdNQN9nItdWy6+585YQmoJ2MQXFPrA77scSspdwsV31/iZPUZutD4iiubjM\n",
       "9FyfDzQknnLJZXRajZL9u+DeypO5DZMyKGe7kNRz2OnN9JQ9zzXneI7KNxY9jxVrknTBszZWrI/+\n",
       "LzbqoAuloIufPYTf5KY/I3FjEA3RgNlOS7+9sW7JX9MIbT0zJ/18zfv2CLbQ59MNFkfIaspWIcTr\n",
       "DWbXtkwlvmExWHqLi21OxmOwyhq0vYtEFaOV6jn5oHjwSsJ5nhQM+PFctmdup9TX19bbkMzvdbQe\n",
       "az8iKm6+o50QEdrMj5PS6mpqO2ZuGbJKCeoV60+BvBhqpdYRcoXkvHw6I1wNKvf9vIrrPaJZgG9I\n",
       "mMExJQkIub52SRriEcYjOLOqJMRLbht5hcbLjC6MYBrnkwh9nF/DA2h2gcmS1LO/aJrxSGzJ6sf0\n",
       "AEuU+cHOinShM80xpJxa7A7ptYXT+LjffGS4ZQA2nvZFKJC1NCmFnfi6pi1TjfG2wsj48QFQBJVn\n",
       "WEzRdx+gFjk9aiFEn0xpVezlNA5VZ1FkFoSYiVDD067jiENJN3xs4HpKycl1M/sUtKisHJYZrjKj\n",
       "E3STkGm639iToiMkY7KxXxoXrG9WXkQni5mo89JEm31qagq1CfWJrB1X7mkpKWpM+qs5mmbBvXuP\n",
       "npFKquf/KQTtjsO5a9P5Y1ZCPfEuEt38tg15iIDkfZeOgq1h0QZaxHvdah06EPDOTx3QqwAJUTY9\n",
       "pBMD4Xu7eS+TwaR6C8bdpeP95C8gWCIqBuqizDE/q8JDdNB+xBihdCaOtOwtHSog+Q8A/QrfObyG\n",
       "O4OPvqm94ZvjgBFHJBs+Vddw+kohMVZTfAAAAIpBnulFESwQ/wAAiii4JCinFnpI1rnPVGH/n3Qz\n",
       "k94UUW+PD04ADxhuOyW0o/geZ4BgSxyM6luxm1Ne6MhkryJ2pX/ho/W+G9ZSYxWv6PHwPPbMb/SM\n",
       "fC4l+KOlgbA4nzffZNHJ+Hgxv89wC8oDQk0Gmv47iCHlxTZQ4TWAxNphqTCktNAQfIPNEykAAAAw\n",
       "AZ8KakP/AAE1d/I/YZQ9uPVUkuwfhAh48+wM2N8yuCJIPtWLcw2Oh+CMMlWLIBDwAAADZEGbD0mo\n",
       "QWyZTAgp//7WjLAAHHRSCmQgIAGWRFhASm4kbmdAFhDK0MW9dJtaZ14qyoDFmAYhs5YbkUQOSCMN\n",
       "wMdgpADok3FxP7f525Jt46cAVHyDQ8u8GfnrZ/yGkpD2ihSvqegNizP8EYtbrWOA9QJBB9AcC5G/\n",
       "27fcZjIADtHThIswriFnFU4xR4PtdbUKWu6xmqGM1oqw3VBfOFtpyvM3QjjNIwr1lmRyziVnr1ye\n",
       "XZcp0aDBONCkiHx5UJxWEgAHlOmqSML4whwNmW8lnJXL6nbWtF1r2I+Gm7nm01lQcGm0luvIG3bA\n",
       "u+GyOjCBHtZMxFUvulU4LRnyepSiG//vZcFYp4Ljmvg+fzVdRueL1dq/VpSARWrK5iE7bB6IUPcg\n",
       "9aIW1JaCQU8WAzp7cpXqaDPWFZnpVta9523G8oHTpocuGRRkca2ymYXWwDMTZO/szLt0bUtPXsaS\n",
       "RwTgODzPSIgndgQ8EnnVNUVEd5Al21UwhhegOtqOj/AD4sZTIBL/f7j4ItAIwPlDDM9J0FWgd/XW\n",
       "CAyw71YHQrhyQtxPlAUZDe69bRsVYU7/J3OtR7O+AoxUclnS/DI/iJhzwc/x2DYxvX94vBawO+6g\n",
       "ho/Wnm9bzAzsL0yc7ZEOw/FYj+5S0DL9SZFTeVngwDTmZr0w4UXwvwreP/iQsqPtzJPv+36qphrd\n",
       "fNBpO99kxlDyPMPEuIaNL+XTwktw9eidJhCO+1DR0424cjhD7gpBWKJiWto2zNX7dspWECI8dNO7\n",
       "dUpN2suBb7Ch7uYOV3VdQRwM/NjfuZ0K9nxKlisLS9RdsCvaHJWV2J1Bhrm7ylwk1yhHS3WfKivG\n",
       "RyjP4E/sSlpJdiFBuNCrcegMIAYFaM5CdXscs2l9iOOgvyShBuanEnMO2/xG2NV09Ajd73O2+8H/\n",
       "A25UgT73LzrVFxdFMFvt457jL2z1OBWCbPQUOBnf+oWTvtPsKLAXZ923fVS/9/nSzTshc+EOzpJY\n",
       "K3+qzVEzLqe8NsA33PmYL2hZrOLYDcaWTvaCxDEGiEfIRklamXt5lLSa0wqPX+zasfu6t1exNfvV\n",
       "wMfgZWII/xSKdVBsH7m3uzVIPL0wF0btX2E3SdohavyGqDGV2Hz69fPMONDaNtketw8CvlRyoVyF\n",
       "vthhuVMHIOAAAABfQZ8tRRUsEP8AAIqVKbvf4AAuqN1hNUZpxbubjsqysMhIuzeb1ZgsC9VjVHL4\n",
       "HAl7pWtNvAG3Bj4jna+pOGkCDclZyoy6EbDAjpm7r+mhH8TRUv34f8Jao+dp9yo0JeEAAAA6AZ9M\n",
       "dEP/AAE0vmJU49iGQZkNO8v42Iicd0K0Q4tmSv0zIlOqn+wu9cjwMXOBW1rUAJrDSPFsIHEW0QAA\n",
       "ADEBn05qQ/8AATVKZhB5NExXbMWVWNdIdmk93qskDRo1b9hgUe/y8zBSwLEz5+wOsNqLAAACgEGb\n",
       "U0moQWyZTAgp//7WjLAAHJtVQHs0AAsNXAPL4jGctk1/guDmcUewwSSo0al6ZvEYWLwbH9UPqG+b\n",
       "PPUhAn60FIRlte8l5G69lJLGVVOBaqABo6IOQSyZAQxVka1IqvWrBab7gConceYXibk5sOz3ASDc\n",
       "jSyDPL5st1aKnOLiq+crYB1MbNHvKs5/XTonIvTO3KkDkLa2We+X+5SS19pqbgManRObwFGLMTZZ\n",
       "UDfGbfRWRy+R7czLtCLUt6VE0XH7BoUi7yaMtb3FoU6HAnzFMW+IinZFtXEigJAuQm5JLq0f62YR\n",
       "t6Ec6V3uMdAwf5oPKxkJlGZONfD56s+QPT9y+pkKSpe0hTYcbTNPy6dD4Mmh+gVNGU3hf3voQQtb\n",
       "IOFKjwwSps/+JKSG7cyfKJL0zWp23+0T7aLpEjudBv7LRJpfdEUdKyZW86dxkTxLZf+eA9AB3CC6\n",
       "s0lFi5Xh5y3jbfLDN6Q8Y1YvVw/GzZcO014pboSDk+axtS7tPfLWIW2VOZ74LXbLrglU8t0JAiJS\n",
       "Lr/D6Ihdtog9KifnB8ogRbh7HE47KnvAZ4mye/tXMt9EP/dgb1MqciIfImKJCr0v47Wjo7TIOAEr\n",
       "fYqoQVZSVyCF3A84TI3tyDGE6LmhCz/Ne8Y61ZLGZMeLkWFO9A8yDGaqR5qxDEU/1/HqjoVQb0Gn\n",
       "w7nqIUmqr1zRX+aUWHqduId6O+49U/0KyvRIARqWlEk6psBK7vZyCEFhqIGdpNtnm6wSE106VBUV\n",
       "3k3B0v3o+708QLJtAcwPbRDzFlkF99eTbZMTt/OqfDA+KdxkV4c7O0h4Xnt8KovMR+CGj20pjOye\n",
       "OGz90ofuVBQ01xAAAAA2QZ9xRRUsEP8AAIqVLExVPp4mlSP1mYQ8e2c7CzFJQeoVBPlIqNpMlxXD\n",
       "4t+4yTfiVo7Q4mLAAAAAJQGfkHRD/wABNUp1hM9aV/CSjGIRop8rWD3/VzWNc/XQu9MEmzEAAAAm\n",
       "AZ+SakP/AAE1SmYcguMYrt6Nk4Ag762TgoA78pBUaSPGSqk8CdgAAAK3QZuXSahBbJlMCCn//taM\n",
       "sAAcm1SYwwAAjzPkcumoDWBm8Yqn4QzERdndC82p15sFkd/S511Yc89rQRy3V+uLRU3r5bRsZ0tL\n",
       "HwFvs90kytFERAKZfekcRS4C0/3lJ4iPEtgqLucurIJAm5wz3+tBX51shSF3H9J4s7mvjuftsoZG\n",
       "eZ9pewXg3QP13qXOOPF9JfjZwJjCbmLE6o2Eak9p7vjD8IRYYOYT3bbsgaMG7oj3OUctxpZfG9xP\n",
       "fYCBBgiumZ4YcuRYU/Jv1FKgIOR9Ijj+hgM7ZsJKiEO+7vMHkW+54eYZhyqNQ8g946OQx5BBxaZK\n",
       "AqjOndYeYfSy3m0DYr/d9qdGKcnXG0lFRYvB9RHiRl7JzTjNwfGHwv5+rUg3Kq0c8fCuH9GWRJhF\n",
       "TRtXV2RF2d79tC5kf6EOFuUJJPQr2P69DGoL6/C8Ga3qe0eydN+0GygLCJlYw12KzyvxU7sPDkFR\n",
       "pSes8Flj5bO/Yjt3yYAtagRAl+bUsJVPRXfVM/vvtJKgE2k/2Y3wgeY9EcRI0fBAKYT30xjv6JzB\n",
       "wYwKuoMAQ73J8mxOk71GLXbmKek7Ubs5g/AjLev/vYm/YdWLeUtm6QLptQt4QDPdT90sUmvs3gLG\n",
       "OL9g9MspyWjwf15wPL+5FzU0B6i+RN8WAoPTImX34i5Qa+AQAHYyfSchomvjwtBzSkieOI1y0gii\n",
       "9MKYoyLKuuP1qmqIT6k5wEgNWXoEsqT5Jucrus6AdZIqikvMXPCAY7/yQneXHFwa4TcV+IkoSbBG\n",
       "pcvZiLzHHSFabBXuQ+IheTikiKYq+Xj0codr5OVAX02Cu5UGaojwvQa4D6tQWN7WRMa+kcRKasQR\n",
       "qRyy8NXwZUv8N9IP2qnSGpCZ2lk1iqwTm4jSC2fEVrb4NYvpeUwE7gV56gcRFI0R5q3fR+AAAABF\n",
       "QZ+1RRUsEP8AAIqVLd6ydKXLek1Mn1CgbuHJQNfkPImGALXefXc/LKGDoESN0QhD2JW050eQwZT1\n",
       "Rilon+zMiF0sg6RhAAAAJQGf1HRD/wABNZcRA2vk+KF9xULHcPiwfz79Tmcoc8cpQ+vxTWwAAAAm\n",
       "AZ/WakP/AAE1SnWEv7vX4z6B7cEUmUZUG6ykeGXaZcdPK4jDARsAAAKtQZvbSahBbJlMCCn//taM\n",
       "sAAcm1498IACKOgUGW8/Y465PwVjJ9WGYhEe6CkP72oCdG+3GWw3eFvECZAUm+XkZQnyGSODwMV4\n",
       "88KOwnSMl5Y5AMHE+k7nCNNorWyXkowZxrioDC1JVa3LyjAVkOFGFfsQrC09iChCLZJvzEbUzMgf\n",
       "Ne95SLN45c1ZHL0QJ+6C9PpHoHops91yy1+LsNMJinxSWJ7buW9lKpcSgp/9SDyULIvCVX8HnLyH\n",
       "rBP3/N9qylV6Nvy2hKBuME3KrM97FT4Kdi9/rYWJlwMphfMHwJ2lu/XNyGyRlLvjO/+IMMxhdHrJ\n",
       "9os4RDkWUG/s7DgJG68rjU4b88tMQawYr+bP19gx9NxhZ4v8R7BdXuQTe3Ks/TxU56dCG1M9U7cE\n",
       "Q31ALAxcQn7s36doF1z+AStdvvg2t2WlwyZQ7RLX0GfILIPiCS/hnLKaUNYrt24+xP2GPQEtju3E\n",
       "+j4OPFw2xS633QDipOCXWYbgBOkJqu3UlPXtc9EHSpaAbzpDVZWC5XwIawB+4K7p0SF2e+DIq+8k\n",
       "FYSkoksvOzSBTK8S6sc/RXVIabOg2VY76tj2zXR5rDGwrh4KdybrzemJArRr0pXG8pxLu/FWhnka\n",
       "USzdX6c2Z5khlAIQ7rGfoUnoszhqt3/8VJcYYbYLLC7n1YKAAWn/TlUAVAhQgUl6/QXwZqV3ptwb\n",
       "3C6TqEU+mXxrvMlIFoa34zDi8MkEAFlYZea1FWIKOh0NsBo3rdc3niYuoMzQXxx2Jqmr6PYEqMSO\n",
       "6c2SUj4DNP+nY/LSmORn06f5xhzg+cX3pmrDbG9MnNdSm0FytEXJm8NI8BWfHZtarDNztA/afygO\n",
       "wYITRcTTTSPKWdHME30azjTqWbIEhB23O+jxVy5aTh30sXtbSRWM3NPWUQAAAEJBn/lFFSwQ/wAA\n",
       "ipUy53FxYnUFtop0XOZFbLEUgOaxz/g4QTE+rtrQ8CUlyx73xWl0osYHZcxM7Eda6Tdj5nZMFAIA\n",
       "AAAqAZ4YdEP/AAEzGWbsTPmHXpBC0LVyJt7GQu3cU1AUYOG2i3rIcUcdLyUFAAAAHAGeGmpD/wAB\n",
       "NUp1hVbEOnl1z/R5RB7OfSCPBZQAAAKDQZofSahBbJlMCCn//taMsAA5GuP9uACjOOalIfHQcNYV\n",
       "//BuDlLNf4SIjWKe412Wi2lUaQ0r/0Y/YjbfkFcR+ysKVcoJcJhUjSYpZLl+BKXVJEGufqJg3I2D\n",
       "lxfgrbtLCpWjdrHyZo/0Qfp4wRVun8G1R0WnAsh1V9RE5fgiY3dkyCgK74m50pPWgGFPgwoqKAGu\n",
       "XPJQOw3BNvdXAg+/q0g65A0PkVSpPQYAf/QJJXeJn9JAORL+yX1G7st99IuGqbE1XMzedrNaSjZy\n",
       "A10EBBhStXx2G09TROhEY7XtabfD5gSMxbGI9zgmGdT8C82rWUopYCvtznt5bd4RyzKz5Sd/PkVo\n",
       "xB0+BTfpZdxGmxpX7nhfA7E8/fHF+Nc1XeuS8955boMy1kgeye5tme5u76A0pUYJoyNkOcMsc81j\n",
       "96APOxWXPzeh+XeKkcpU9YGghkAlShKVTxzEypPPcof1EzDBgTDNUQkySMlj1q+r9ZB9SgmYbKoM\n",
       "34ot76KPcoj4ZVd6d2Hey6ai8Jbv86tJL+gvBGeENRCrQR3qvaMKkzwMPxLOeHzc5BwzR+CuhByP\n",
       "B0W0tNG4X1PjASDKLzQWY9ib9SlNKtSpbG68QnhUlezWopRcnYOln8q/jUuNV6a+Jg2mGH3+E+nC\n",
       "UFm/pMI0M5YTR7XQJ/xoRB+ntOt5PFf8BLS1+D1k0U5r8AS7CYz0Be/XXivNRBuuou0NNHtruoyS\n",
       "axPaq4VZepsOZMsRm8Zr9dqsTS82JmtdEh1++GlOiU383LFlh15jPQSmo96X8azMRbYLsrP/z1RT\n",
       "FwAMHkP+fQxVlIdyO2kF5c2MEy9vaclp/wnMf/TKKO62HDmLc6KV3QAAADpBnj1FFSwQ/wABFFGf\n",
       "aYWnaTJ0M9cz4LZdLpO2Y32EzYO/eW4ABsYEr2SY7EcViz6rOVq6U9GkbqXBAAAAHwGeXHRD/wAB\n",
       "Mca4b/xG+7Yiuf6H61kM0OoKb3NYWcAAAABBAZ5eakP/AAJrEWzxc9k8jCyt4xRdS/CvfGtqqbG0\n",
       "VcgBakMvo1voOcyI2C7hgBbNcYrd+Fm0/Sr8cSlmwrxwccAAAAJuQZpDSahBbJlMCCn//taMsAA5\n",
       "DSDXQsAbIpZH6hRcwbTv63QseBVWMukJYcuui4e+N3SAfK2fGpz6IxziRIYWaKvSZtzgqREFSHFA\n",
       "o6VFvIkAoXpwaw0/F0lv8tXp+QYYJkgWTlMch4OOMWPiEkzUhOU5Td4LOrAyACT7R1voZkAaZ52d\n",
       "qu6HBMN2aY9xfn4ruKk6+JdUHyEAkEy8lneypN9R4mK4/EIjKz4dGPtF14vvDz7GHxwJtqDFQMTM\n",
       "dy0fLmHOXqgxcUcQvqHVzNwzL9tsuvNtoIprmWw4brOKJEiJHZLN7j65QVU1DD7CREKx4qnQF/ro\n",
       "i+rNvH0tDcgH3zTgAXpzOZQ0yuVf6PveLC2fVH+lYuFUma0kBD/HQjk5KYlmX+7KBJggIUdaDnFU\n",
       "hLc5x5IFFbTaolLbwDK/RwG0FVccO0fikGrFZ9c7Y/LlqlIE/VCDy2mCGxlDmHiqlrKUtajV3WwP\n",
       "ocRzj8CS7tEa3aVbSbppx1uti3TpQ+Nncs7r3E7/GD3tTMpauuxjXMTU3y2b8mcrBgdBNWi0AfdC\n",
       "e9YzsjrILtABHSfeGltKl7Q1kapLpDUmxQSEkYT/tqgEphAD9wuNJrvindY+rcS8mSSpBs1fpEzR\n",
       "2H4AR4BUzMPQHKNc5QhvOZKwWPENWyxvcWr6ZeB18u7DNtreXasqSwKkXFU16baw/3VVWZEzs3c6\n",
       "Ltvvq8nkShR4IDjA17m+gy0IgGuccOhyWwsu+es/lJK+1cYcq1ERvxoG7E9MmLXuBqZuPyuM3d+k\n",
       "Ih6X5kym0nAemyW6Ai/szSAlW8H7zb8eTgOoeAXL21FNMQAAAERBnmFFFSwQ/wABFFGfeQ4UnjDE\n",
       "0usQhzHRABnArcbKiO5+V/NfADZVdXKnQbhJXBE3dKHiJEGV+5lnqajLZCWhAsSxYAAAAC4BnoB0\n",
       "Q/8AAmrGP/E5OR8BR44rUj0iebida2XJpbHhsB+odEtalDQNTATBp3LBAAAAOAGegmpD/wACaupT\n",
       "ET/cnpsXh67dg+Qs60ZQ3j9rAAFcMvHd0eaiFC0KjzJ+51QmtxIJsDBGmz1gAAACsUGah0moQWyZ\n",
       "TAgp//7WjLAAOTXjn/ACd2/i/08GqlCdDEimWxG0wNfV1pA+CtVEvY5r+OwSS+1t0M6zub4GRa5i\n",
       "sDSaHtMyiuADpETFBJacR4F9nSYp1CUxJnfLmuoJlJtVeZTWbrBVFAn3cSOKEJZji0ij2LxXpKbW\n",
       "vLVIxCdy8cnw8PVR5HXJ14wAUDAP3vQ5is6hX7hWPGMdkCNm84DklF1EovV7z41hXuGsh7GSDKrb\n",
       "cIl0qj8LDJTnXFsnfinMdD51S2G77BI1kefYUtogi+MCyaSZ2e89e5rw08fUJA1zGze1rdU4Ea6x\n",
       "DdkAgCRNIzN41GRz62S16OgEn6Qpg6WrmqDYvMFdIuKGI1QVDMLWL/lZa2yHU+OQEAt8QHGML9QV\n",
       "OkdeXdt+Lo1d6DCMVyKbRtfkdGYvt6OSBadtF9giTj+2VhfVypV2eH2GPrGFagNFSP5PGMoAg1++\n",
       "x93Ujrn/+oxUTKQ1GJDrHj/3Gmli6Eqaqlx1qQndFw+KfwRjBet9NLLwMER7kpgeirSPGo08SaV9\n",
       "O3H/ekvlt7lDNecyTK1hlYgXlTCNAtE0WfwWqHW5VczUWT5jyUDxFfVMcUKPIXENkGuTq9zh+fwQ\n",
       "ZDJQctxghcAQkTDScwaKbKqXrZRpzkWlfoIdAMq38hFgEq5tqrlzjy+jbZlyZVzRhI2q+cSKawo4\n",
       "fPdoL884SnVtsnUfoK1jAXdUc7IwpOvgO+lqLtSLItTchU4Jb5vMOiJ2+VY9hXOlzL/kA0V/ZdKe\n",
       "z0ZgwTb+58fxNAEDA7yc6TKGQF9zo+Ut3z4JjBaAyC9Bo+yv/tdWztaY8S6OBE1C1NoPFjlhVodc\n",
       "YFAF5VQ6vkPf2s7lZ+etmao9jnQg8VbdA+B4+PcMtC7hUTH9E82jVdTkvLicnN4zIhbeoLN5AAAA\n",
       "W0GepUUVLBD/AAEUWkaXocnFH4IgV+ZgaQs6nrjttl5eF/xtb0AFWhlNZIvTE+zYHQBLxxfFfE+Q\n",
       "WLY6o1wGv+DEdQwrev++lGCyXObW/rk9af91SEwrFRkPiDkAAABAAZ7EdEP/AAGv/8+HQyczS2hr\n",
       "Dp2eqSwrEcd8050cWaQYAW0GQbMoujQ/p6jADpzEoBDPF3/5GUdQZBGDZZ4BQQAAACUBnsZqQ/8A\n",
       "Amsvi8YFGpjh6sHwtlcAlRdR3Cl3JZX1Y5SAWAFhAAACnUGay0moQWyZTAgp//7WjLAAOTXg4LgB\n",
       "MkSqp78W8weDjD/9S15B04cZDcZXBHv0c8shcgny3DDrBSop8ro94YucjED8AHJ8PYSMUFUTXc2B\n",
       "p2MlVYTYhnlshIz6hmZUZ9/pK/3bmJxaQHIyvfbRdy2ll+NQzNJjU7rKAE8ifnpm7MPGbu5L5/Am\n",
       "Q5WxLs37U4w6jhymD9iuz0ggjTKBPdlxY7JewuVKx5UfjrXzLItP9zIpixhs8e4VFNp1HLEB3l6Z\n",
       "AbshkWVXzZPrfIMvF+D3jzYIOIx+XlB0DdfEDayPKQ/p+avQvIPiN5dRvSh/PKacic+ZNho91l6x\n",
       "3/SOaZHohIr15eCi8Dc4CkHeozJFVZ/rsRoK92gEcBbCYj0UXMxsGiKal5qnTyGkGD0aJ5W38GwU\n",
       "4yyWwrUgqHRqnfIGInTh9HmF/Khy6Wh4byndTxUCfirylmDagZoa4Rcb7kBQvdRQBTYe7pL9/SaF\n",
       "WDuMcy17JOIpqWwV+QSzd/97mVKRWVOAXWVgyk7DQ57iJAp0C244jAEgP6vu0NckP/c++F8nFse2\n",
       "ErpXCU+2FlWt/mGPnlkwzHNOBQEUCVhrZ3+Td9euLlUKdzBcLmQgQ/IFm1BJAYnBt1YgJz4jeQMJ\n",
       "vvmOFvyTsav5fUqWrMVEMhUgg7yYokDOlBEfOkb/rtmCiQ2sQGy6N1XuhYs6+/qNBFETcLtSwnv1\n",
       "K8fz0jrzeXmqEPxEkjnm5WaHgTz3j8ijAejn8G8M8Xk1VPDnLWI1adBrjdxm6tcY5GwZ8lEwAiJK\n",
       "3LC/UJzbH6UC1RO+8a2GCWTZXFxcDC3DJrbAc/jk0NyOjYI8fS2uAdTIjtxUbjUM8ANBWCbidBG0\n",
       "n2B2CP59V/bnVJTOxEFb4pnJQAAAAEZBnulFFSwQ/wABFVAhK4ScNm5EX7HSYjHrXbY8lDeJZzPX\n",
       "yWmWEdJlElzwKZ1lbDrR77HFQcnVTq2OKf7pAJoEG8W/m/csAAAAIgGfCHRD/wABLUmWZEsZdcXY\n",
       "vMJfW3/74NAuTpIamqj7EjEAAAApAZ8KakP/AAJq8eFxXG8z2EyhAIO9zOBHDleOpRXqdMdO/Vlr\n",
       "nilJgm4AAALAQZsPSahBbJlMCCn//taMsAA5Nrx5ZdgBvZbwyW351suyLAmGFzcEcszDRfcKSiBU\n",
       "NY6WR1A8wWhuTywJhVRqdu6Tt40D6tTkc3iK9Vubp8aFAaPINoGH7dePdsfYYp6PftPAsbk1fCog\n",
       "szMTMXFb309h6OAFyL6WOdqvoRSGU47iX6p3W9jE4MqjfCP0XAebEw6GDX0xbSOycbj/vsCncPyC\n",
       "81JxpIcT5ptOYuF2YSlxFbE6ay+Ib7wUfkG+DYB1I3xuoSHN2vVA/x3t32j0sGgL2ej+qKFL5kpT\n",
       "/vhTOwAXqvNYaxl6LZJrWZZUskuJM2jgBvlpHFfDP/kcfv96jxi55bECgl22x/YnF2ochpPbjOeb\n",
       "HYPQeIecO9h65GUuonLKisfc7Ba6257uGWLSK6O2Wvu1mq9oEGwB+DtJf5/xz+8zq/5TfmuMuI6X\n",
       "f2tJvKr9WCP3J8n9LT61yCp8HQ3UQehkc+QL+1pUNtlJ5WAMoqDLpaGb67aoC6ush6xPk9xkc2eI\n",
       "MTfMomcKMgDSL/MKxPHKmqSZLcboPX7T3LdiOulborLWADRxnwyGSvA/5zSr2VmIPJjLEVW48Bnu\n",
       "zNELZWfei5xMBHet1O1Z0JnXFM07LXo5e61+PLk2JV3jI4kxA3RYIDen7igyj/tgeQi/1jS3gsQM\n",
       "UyHtQQba5deG0DgDhreI6atiECmyWxoq7kD6UqRvC0ELXR0KD9ZAkb0EWqaSW8dWR/cyv8dXD72S\n",
       "egikldYZjWr3h7nM7WatJRqaeWYATjOkoo1YYrhpVoRkR4xsUBxZ1SYdN0qjI06WFedMJMXIDeWa\n",
       "3TeR5qg9PXHpFJm1CpYd1aGm/zHss/OalNYZ4I6aI7yY+FMwmZclQxIoLs2RBhF66TqLWvVRh2/P\n",
       "oTwFddS0htJIebiR9x5BIlhEjX5t4lMmdOXrsvAAAABoQZ8tRRUsEP8AARTnqTpGn0JXV5WM/dLt\n",
       "Ys13rwlMv+EOAY2vu+1uUKs18v2hzm3273/kZR/znSRlDKAAAa7nCbSHglOG6aCbAFQfhNQlsXUt\n",
       "5PdZtuSKmNKVWNbA9FANSpXrX7mOoIEAAAAoAZ9MdEP/AAEtSitjeBt37VDqjY8CTQrpSD2XmPD2\n",
       "Qyh6uwaaM+LSCwAAADQBn05qQ/8AAmqUzGm9850dmX6xZNpR4f8NDAuFNQArnueVs8hWMrcyP9MB\n",
       "LsIVn+Gvz8O5AAACVUGbU0moQWyZTAgp//7WjLAAOOh267200gArhPArJcDngvVRMBvCVMZpEwAY\n",
       "FlgPNh2MTHHv8wSxv1CBAHhbzo1O00EvWAWdkDI08Z9CdNVXQWBTNhNiG41tTaEjrAvgyaVHW19u\n",
       "v/e1/e9b4lZr73h7aSVXci0ESi6mo1zK60w/DFUmtZrdZBfHUBLlgQJ6MXlkZhG+UPJzF2XUjV3q\n",
       "LdIK+ZZrIX2DgSghXCod3t1NqIY98FgrtfqpRxS7Axumi+B0EpQ8tebDZRbunb3l1QNHOqe/Iuvd\n",
       "kj+gkUEVlYKpCOJZY6s5DHKbEtQ0EcNnxqTvjT3t1hMGw+r86trV8dVp9/3GhFHY89BfBXy2yCoC\n",
       "uqBNUSGBdat6vz/FsrSWT7AQz6+MpQrJJ42H2wHOPoiluqr8U2xsrvt7JYagHzVkg2Ns4HuFkcEi\n",
       "PSquJynaIsyZsfKgIJ3Z/rS73y7PN6SeV/jz9XLtWDQakpP60dGjI8+v/pS5yEfi6/uZ0/Xjaj3T\n",
       "p/PGl9ditlHavmUnD2baGn+6IjhkF9bUljdEk/3OtptCox0waZMavVaDYqQGR8IDsnjLcflqEEbe\n",
       "2FCrupwrg9EefWGO1+TIWpkOVNj7ji/udhWw7ArKvlZucQ/8+fDxUhIn843mtwHds03KZIGs/aa8\n",
       "hS7TirZNkiZS/Zth1zQRLwkB1e1ZQAmkfKTHWiF7UWBT7aXloKKZsbb20INz0krDuKElABFYVUbk\n",
       "Ufdxot44hA9tWAPuE/M8TZhpiKeMSW0uuV0K2a6RN95c6/xT0Y/hLgAAADlBn3FFFSwQ/wABFVB1\n",
       "v7Bw+ymwsEMaZsAmr1vkriKaFWGCEmlgABrINXI/rpjwIwSVNiIt2E+Md0AAAABEAZ+QdEP/AAJr\n",
       "Jp3s1t531oPjBk2MHaGyy0tx6Tx/yjp6dQAV1SwS2voTE+1mR0YRfq0gn+8IPIqac/Ft/tUDeute\n",
       "D5kAAAA0AZ+SakP/AAJq8d4tMJ9hof/CZcxczYlwYSgBV1MF6110c3OSMv/gsYjj+IhMkrUJJwk3\n",
       "8AAAAoNBm5dJqEFsmUwIKf/+1oywADk2yB00wAqqdUQwbaHX+vZisQeauxJjFpl0GJhwXSR2qd2p\n",
       "Jij3kJF7Oy7/h+IqELRppbxt5Y4NFD86J/elMqmIhiH32N1JaIT40QP/RMUenqxNqADjcH3yDEGH\n",
       "kOkW630WRNabbXWlaYCqXJwMmqmnRpbEFcttmgw6W5AdBMm6qYA5FOKnCgeXXyMefpVkef1SfGJ4\n",
       "DKXLeu28hiCPcPHc8jD2fHu7wa1ONzt3ekoteJCWahgcqsmI34mYTNZx7KcavLDa6Ugon8BfmPjN\n",
       "3byclw3p/NRM6arBxn14rKLCPzUZScAAjGwFez+xDQ9ai8GoItv4UMnAC7PLIKA0DLs15p0+75JS\n",
       "a1o4nDa2Qgig5/3m7yhertVGJZOlsxxlUMyGOJpkmbmtHllDMdYiDDw6nCXXSzhtag92xdJfJJvx\n",
       "+PsJDwX7ckSgL0fNpcnAqq4AEGBYMhPzE/3xJ9QyIAwK/p4OOQwW7v8ZVwrfWvvurTMNdHrtpd/h\n",
       "yfIgZr4nwXGSlk5ZaBPucW2w6mjDwuZEuHscZnRct8wBhJc5V8ifZzfDxjkQ/LUF/HQ9PCNR+NP9\n",
       "TM/cus7cV4Zl82W772FqCNhsYclQ7G4P1QJQMUl1aHMmaS/6zYzYp8FwNt09W47yd0SIL3BydIIz\n",
       "mnjE75NC6NTBLx83814BH9mrcVgB9+HGQDLPmDiTVIH2fvirYyqvgmzchBIlCEY4fg5RoDZ0oW/A\n",
       "ipZlYHEiS1BrcLBxvuU9E0PbgqKdbGpzL4AuE3w6cm5zS3lbzc7DCHgX5Aga5BoVNMkZI/lA4zzf\n",
       "9QE2MjXgkhyXmE3Sc+kufYtdXg+IAAAAV0GftUUVLBD/AAEVKmXzdZ1Vsg1ewimL8gDgFNchYKD/\n",
       "5Cm54Bqdpw92sIAGzHHCBjjF1Ycn9rVB9TpXCnxN/938G1VgMxyJCTnsujen/KXUCf3H5JKV6QAA\n",
       "ADcBn9R0Q/8AAmsmkbem0nCGPzrdttmT9ER4AY//BPsAK57nmEiaubMhH+8ae3bJ3LcrdPEgRWzu\n",
       "AAAAQwGf1mpD/wACatGq+GX1uiq1qseW4y4hP6saNI1qnEuewy51kerjUkUAI5FAMZ+qxrHekZ9J\n",
       "1cDw/8deJlcOmAByissAAAKGQZvbSahBbJlMCCn//taMsAA48eEygAVQxZb/K8oYX7F58v4/TPr1\n",
       "JmhNfOPC/Ap+28ayoU0erPpz16PPaQ2YZoY0NT3iIkYnUyTgQn4kojGc72efwntNzC32P+EaqBmc\n",
       "3Tj6SCdlelnecVyYZrMtaGmPnZRa5v7srZ02MsI+P/VdWV3ZPXCp5TBUiWwC6pq1rF35jxbG+CfK\n",
       "MTQ445/SBSHVy2q69hS5UtOhHJ0XOh7wDKKaDHa2Un3ML+orzomF18nhHjr5ZWLe9jotFS7BrIU9\n",
       "dKITowCFtoZrWdJiVhpjKO0cdIyCAoIIi5bK2hT/7oupu1jv39R6dfXChL0RJ9n1Rl56BLoQsjYZ\n",
       "F//1In3FhMspfa6iMnFEbvYB5cQJpNrtK5neP8oDn/R9+v/HLiZ13JeuA96Yg83QAwETklHhgpxC\n",
       "J27TzizylNBd37ODgXvuWvRvvlhZdTENBu4mIXe6v2Beg0c3qg4bkjaYo5x3oaJadedDUnGLvt6p\n",
       "ECGRDtAnrtylAV5rwAagrTRnDp6++i7WbdOvEx6YQxzO4xpcQeaWWqB170XxZSidf92OwfO40lj1\n",
       "XsXrZQUock2Z+OYdEx+KZKM/DN9A2Q6vi6Zr4BHCLfPXboLYlx61EeD0HYEqyp+9klAT/971wnup\n",
       "qPzYTeyy3NABsfLzRpsbz0dXiFFixt7daESwcBOCH8hUD3x3diSJ9VPeRz61imRqPrufEq2Qbypo\n",
       "GD/FXpASWGhRdQrdxMTAl0hZOYhHBnu0ajQsrYBzc1dzjCJ91xCYTj1bDYsYmjuzP5Q0zv9Ku2/L\n",
       "EqLfvXyBAO2cB3lsOmzkM+Yye7EzHAq82JSNlPOoX5FGIeZd0QAAAE9Bn/lFFSwQ/wABFSpl87N1\n",
       "wuCGEv9uwmuI9HKMdEANShKpl8e9fGdThHfZv2WtvmAuoW22qIzT3IgkS59v7HR67S9mjgStjVKS\n",
       "AdzGrRvQAAAARQGeGHRD/wACay7WYiVQ2wBwnhf45OXQhO/wN3K49shCEh4i1VI1fyqMbae0oIOK\n",
       "+FCd5gAm4FKThu/YuEtGfqnUg3geEQAAAFEBnhpqQ/8AAmrRpGTeXeHnP0Acd3PX4fNOpCXAgwW9\n",
       "cNDoJWZO+P6VCcHOGqxtelIb4FbUAE3ArFCTLu0tstIkdTP1tdLUuxnevndySkoepBwAAAKPQZof\n",
       "SahBbJlMCCn//taMsAA5ETHjWAE6m/4ygaEy736v/etiKa/VeqbxiBMwX3mUrwsmURb0kagO+ctR\n",
       "zHH8mbFbrKY4ltAa6eqDC27UbrqHBkPOWLgLPNyqFfwoSKB77Zg848fOLnC+mukMrvGVUnnml3gx\n",
       "+S2GDlVckbaZwb2tD/NVurZnte3mEABu7zNK+SAO48QBqQQmwgkCKsXWG+DI6MDSk4BKwDCPLT5h\n",
       "2LYbs9cd6xsVp4/6Chvgaf7xTeTtgT6OJ0KfIsfn9HC7MNP8Hijr+LSJvm0sSc7VdngLO6+2NDYV\n",
       "sIvfIY3NNbl0Vg2ivZFBiSjzShO6khxosnEyrGUayz4le9jUY4PMcjvHBOlnua4h7jKT0XlIlTmo\n",
       "uRoVGLenYPoTTuoFewIRsCB1w8k497EA3fytmLkFe1jT12zu2xOrnFuD+mnreC//W5CrL2zALj84\n",
       "cqPiEAVQ2DlLGoqd7kzlokvAP25LJ7kP2oQvyua88yNUEFa0ttaKxUgpGk9LN3glydQku+U6+f5I\n",
       "PVnkylWT7Hb0bnGmLPYDu/2ibvGTWKqgnYxMtOIzndx1yLbWGSI61BvxtMuvZsw0HaaQ1Tqu8roN\n",
       "IdTxhopMoYJkydEQYavya8Kpb9M2/y8Whg7U6BLMJQGuXwTGvXtVTIAbsMIUN7a/KyGhrxUNPfV6\n",
       "/LUYO7Yl96vHbq+URebESzBYj2YmcKTiDnlZRE9kYNnuvxkSj927CZEHuMc+c5AN4jyl8ujvNhnd\n",
       "UlqLOwoTrcmHOQqRGUm803DxZ8K/1AEutL+yynR51uFcyb/psKFWCcuNwn5SHA0afzY7LDdv6iIz\n",
       "VEM9Ej/e9Aniah6OQwoGA6QXmmoAcHPN+QAAAGhBnj1FFSwQ/wABFSpl83kyLiirIj2kwrp6pKYk\n",
       "WVvFTXzqke21QADSsfYJrSzbVbY4GMShjRXmW7a/EXD0AH941BjL/CuvgtEb2QHqG53WfvQBnnfC\n",
       "9+Z0IdLDx7fV9GJskHhUThQCbwAAADEBnlx0Q/8AAmrDFmwwh4k02FtvL6u049sXUbScTmiFPeIq\n",
       "Dk/vZ4ulKqcE3MjmMwpOAAAAKAGeXmpD/wACWwbS98LW8UMoQu1kvgMFsG0F2z6+ndPgsbOSRRbE\n",
       "CggAAAJ3QZpDSahBbJlMCCn//taMsABx47uFwpGgmYy6BGA9mPuVloNHPUlA6E+J8y60nLWkI8jO\n",
       "XI4659n5yhsPfSC9rKXoxgJ1SVgUP5kTJPVQ3ZjTkEV6oiyY7PwPUD2ppZgF0SpvebwuCXf5FpUQ\n",
       "3MM/5QZkQmzKprMeleC0XgzpvflN0kJAFA5Ch0MgsC16zwxNVsAHB84pqjIN+Y+KdmoeMavf90qj\n",
       "8aGQ0YypBrUKmmUvYrq4mUFnf7jit8Bco7jUSS8yIsNJFXHN6O0w3KgiFSqEzm4G7BAMGU8HcQ55\n",
       "0WoE+mfGkCYV1MhzSZxLnKK1ixRvpap37KXGZ2caGBNHO3m6odl8wXCJGyTa4MPZzW6SZOtAEBal\n",
       "tdm2FCw5x9Fwg7UBLYsvTTk2XpSJ+y4RRE7vBBjd9wahE8dXNAYvG+pLP9wrbCL/txPiCt29PPV8\n",
       "7v/uU5HCytsQXxSnEyLiIzoGoVL51Zxh35nBUwJ68haVtEG3rFL6QptsWAq9YSinCa5NB0ZAUWrZ\n",
       "zkkEfvX70O7cSosaGQAYV2aW/fuqTseret5WxHYJteeFZI+Ah5JRIU+G5BCZ0RW2Fsm6AU0PKfkZ\n",
       "JGlbogIaP2PdGgKY3H3NU1dEKpVUq6uIdjkkVDTrF11YhnF/aKbg6fyHDDauJAhqoar3mUQX7aPq\n",
       "ihnjYbA+QnoPPRCFTUhK9dzilJyCRvQT34XewFJfhRUe6dY593mIR2cXpBl3JS4wouTFYot2bfJO\n",
       "9E57XeQsgtRWgUMKUXzFmKUCn8sqykoayJLoVBjODekGRqCSETPSB9NJ53TArvmwhhP9hjtzpKV5\n",
       "INaP+bdw/Gup1QAAADdBnmFFFSwQ/wACKrbRjGIvdrzAMhfqr4lD3NG2+nzsYAbr8LvgK5y0Hmf9\n",
       "EvpOTitwrLzeYG3AAAAAOAGegHRD/wABr//PqTSju/wLv9ALYIvE2hMQdE1h9+8AAcMWAh/psxVp\n",
       "353/BwoO1Hko2NgQWkinAAAAFgGegmpD/wAE1l8XiS1RDPVh8f5kb3AAAAHtQZqHSahBbJlMCCn/\n",
       "/taMsABx6B5yFQEJ5strAIWQ75Xzs45AaGfh/WaJlxegC/45c0tbXB/Ll9hofyR4wxjzJeuMScjG\n",
       "9hGDM3I9XXTGF7QchFrc9A/rXG+0N+0yt2nemred7XSBhv/y3/AWp73B6I9pRoQ/8t5PIQIq4ci0\n",
       "o/uy5hPTXfOQ205NUJfwPQf9ICeGnAmz+FSnKlPk8U6kiQmLGftSD53CsSLPYT7CSLLEbO/1sqAL\n",
       "aPQnYfEQ4TF0QsEw2Ts+ovit2S2xgzkdVRvWlU14Li8R/rpavxbWLTzqbnv6fsRwURvlxukrMtC4\n",
       "uqDVEgqGtfC0sOPAYI1r4ffPV9W+oFQuBmhxXcGRTr6uFM2QE/AiFfkAYXniaw2NDPgmDZmur1Zq\n",
       "18ULrsi8wrtRO40yH7HkiVkljIEIrXvkflUF1SqBiafG+D9CzVm8wP3HHfitC5irwGDVO2DBdjB2\n",
       "WzObx/vU20Uo7mxo6DDynYg2jIuidP7CA11udI6HVhVTf1Nc0z5ok9ry/VnqTN31+/z5PjS9giOI\n",
       "pHcG71E4ErHf9JZNbxubOEqSE9FJc36Xlie1MpsxUJyl0qRNKbsFmvpcvhFt9V0RPMsomax43LSd\n",
       "7/5csye0vMSyirhojUjKfqClts8SYAU1MQAAADBBnqVFFSwQ/wACJDE4rYz4Rt0htaPiqDa1mEdh\n",
       "hAZsMptVzSYWA0CQiLwma5rYXcEAAAAhAZ7EdEP/AATV4/yNoYH7T6PIL6gwy3ZqKwA+hgktyAoJ\n",
       "AAAAHAGexmpD/wAAlqTT1dJREEAGGFEDttTJDyrN8cEAAAHhQZrLSahBbJlMCCn//taMsABx1Vbn\n",
       "e35ChACIrBjTQE+FOj/lGAqZSRVA48NAiQ9okGOt/v8ddx2VeRtPa2QIeH4mc6aR4H6NSBPd9uYn\n",
       "ATLemHMYG7GoFPptZJy/m04+j2Y+Yh7+sy661gnpS71UgHPbHgtWPNc7bJ3mqLHJGxqgp4ke+/hW\n",
       "V29wsAa8m3jLcM7HM45ZJzMqEZC/MWfbaTIR4Irt7dmKQjWWROPkSfrQ8BRodYZhrnLyIlxqFeJv\n",
       "jxDYk9muyjw8b3RWSzflO7qm8l98VJjZJ+BHP3NVsxh6ZCjKxUk4BGFMvO7qV42xOqu109VPzHu/\n",
       "00N30pZBLF9mGbOxUhSsyMvZs5qRn1ipjRJNouTN6XaXT9xELbvE4WHlfvtg6CKOUD2NtDCuC+20\n",
       "xY7zC4iXZSVAw6tMW69Wcd0KHkIYcIvqvSMDhr8HjNFbqpCyhRlISMH8oZ9sUmsIb8hGHaZMw/us\n",
       "NXWnywJIHLkfAUMububu8cvb8b1tdeHj5OMMNWvS8vmFpvvC+YN+E8RSf7iBBE5A1MCKADG2TFv/\n",
       "C4wla/lNAvSQpRiVkOgxYDaXaLl7Rim7Ha9ygm7C4+mnrjW4x4P6nvBiO6eVRbXigFxhDWvMVW9Z\n",
       "YPzqbgAAAC1BnulFFSwQ/wACKqDsYTZpFY8bqFViZeiWwCwY5XOl1DbzwT8Rsi55He3og44AAAAk\n",
       "AZ8IdEP/AAGv/8+hIwO1hyzEnkrLySG9BrokNUejSfRVT6VBAAAAJgGfCmpD/wAE1l8XiyC+Li28\n",
       "pQ5H2+p0bXQHEtrxoG8oP3pokm9AAAACH0GbD0moQWyZTAgp//7WjLAAcePBs4ADj+R12dXWfLr9\n",
       "97b7jrcuXpZ0Ft2yxySwWRQxgKK6y2GIqyfmsBrbRVQ+KB/E83godPDuKaow6KILt9AQIUe/OUsF\n",
       "7aXg8ZhCfcQjWddBGCLxUfeu8QOB34sDP+u7GmYoOysMc4ZsmBem5o/vZI6PvJerIPxdMSgvFMnO\n",
       "xsnoOu5b1/QoWqyN5mmC+lfbqrBLzVMgIOFa0817qfui7RjiKqzQ3gpQ1M8WagLLcPVEDfs4Fj7k\n",
       "+qKsM+IBG9J+wdz7XDISMkN3f/uuSL7yyhuN+NMk5LdAsDQXsQ9lOfZu4bzXg88M+pgh/pfT8IG0\n",
       "ZUL3bfAXwseQRwxgKuOoat5lmRii4mcXi7CUjPhj74/L2Ef/n4PtxZne2aKqFV3B2L2rQWKIx9F5\n",
       "EkrCQxeEkluO9vZkissq7LZ63SsVnFF35dst++xpDOyZTGFTmjjjvmUwCeZJLO7RmvfJ7qhMl7cc\n",
       "n0+ykeBFzw0Mm0G3rgcLSYgOek4wpzhuRvoS7cMpXVIBHTFlGnjpbgZWaLCesP/U64D68BUpJAMn\n",
       "W5BGl1Fw4vs3DUlNBxtEoxTdS2o1inP1Q0aFB8T65FJBZ0OqSNASQ2neGuauVslm7K0++vkwQ075\n",
       "otnsVV7D5XqjsbjfRsbLunmZEwP19v9JuFXsA5IENNbGeAiw/AZFogJlIGzVL2ee5w6SDe9hgAAA\n",
       "AFNBny1FFSwQ/wACKqDsjiEq5sgkiOhwIyTYhguwnlRwvI3jcTwIXHBnLySPn+gAlo8VwKs8UdXA\n",
       "gXz6BbTEfY/PFoRMW4UpxS+f1bJ3caZdtYGBwQAAACwBn0x0Q/8AAa+nTNQsjEXg0fu9IGEpnNkb\n",
       "zfZ0H9tmvwL5PhECjboYjJAyoQAAACsBn05qQ/8ABNZfNOcNSml0d231dmH8dX2IaIqyWYCrnoFe\n",
       "p6CVHhjyXgGfAAAB0UGbU0moQWyZTAgn//61KoABvLNbrFwCELGeNzh8jT9KGS2jKAHBEkEL6tjs\n",
       "Bn6Ub65vJkLcEid2MxAHvz+fhvhGybTWAh+3MNzaPdQFrc6k32hhhtr7ZFI83BEBKsPL0gasu1sz\n",
       "1cMF2FwGPtB4RVpVdxbohTXaRs9xqJKCoqdOCcah5YdQ5//bOEWRKrTExxnxaTxRdz6uMwqxNC4I\n",
       "zidNTVcIzLTh9HIuhbTDnquQ2WHGLNRpImTK/8x8fh5vL6bMnHF7f4mXHaWMhKhikRknITMep535\n",
       "bQkSP1tbJAhBGwXDaSdkjGB3DD85R8NwI6f7rFWl2ty1UQKDYsbY0c/izOVJ+4tYj9s0NGEjyQYf\n",
       "DERihqhutUGPflSUeLWNkQTd05p4FLN8Xe6B++uJRHtId2HaINcAOtVmybHrhk0CK4TD+MR5dBeM\n",
       "Ne6GbM0Xow+03ihOOE+GvQGAoBSdiD8HOBEmv+KE2/YIpIGPgeJiX5o8hpY+RXgEpbT5i+QUpgbO\n",
       "S0wxCXAN/NtLWTnCtHpaiFJmLbC3txcmHy8MQOguigg94zv7wh0J+hnsuxQqk6D8djGH4WXaPGdE\n",
       "Pi2deCo4gMpR8IxQ16LIkGkeCm5rwAAAAD5Bn3FFFSwQ/wACKlPaJxspE/nz4PKZqEpbtQaoj3PM\n",
       "AIFuIEoNbuKr/TvSAPjiYEdHF4qOWNULIeLr8SQBBwAAADsBn5B0Q/8ABNXkOfiTdlcz+n8gq4Rh\n",
       "mTcGnPyEuid4pm40PlG2w4vfs8dq0NkNidFnwFB+qS89IMJDpwAAACMBn5JqQ/8AA1/jwn74X8IU\n",
       "cxDWt0PUpHAA8vvGhA3GakALaAAAAcpBm5dJqEFsmUwIJ//+tSqAAbzm8aMAQIhoB4uDptYvc3qs\n",
       "cMTkHDxqvixCPzkYuedc73eI78DPXzWQPYkgnvEWvQBHXs2F71WeIlv0OPWHljdlOmPp05QoGDml\n",
       "I9F0DLcFQeDoaqo5jfyleqnHwoRzDi7GRyBK2CmhTTATwtSWPX5w65IjeaIymfrpsQIN/lKAarf3\n",
       "8eDXIOpLvHhNfY2D13PPoVg2eAcXB163bjA7mBNLHBZwzdwhzV0WMaKGYXvRV0Y2Ui8UTvg8ChXp\n",
       "8Kdgi/Hl2OMTB/hte9wZ30BdqUa4VUsMfdRpEo9ftpszIXiOhyic+dDesAFtV8rC+rlJvyIH9Kse\n",
       "VzlQlYQMUaJ2uFQl/qr/pcvbpMo1Jle2YMfwVKJNNfkIPvBdFbNJ310EhkyNspJ6TitqjZhUfbhd\n",
       "Do22lU0FA9pL9IS0uQ8+u4yz53bzsqS8V0wgIu4Hyc6e0TySmOIVt3ZO2ykXqYD/njFDlopxC8Zq\n",
       "zzaZUZGu8d8zwi/Jrio1/Z4Xgw4JaF1/cDrcO9OjzVO+mx8EyuQmpkJSL6CaO61BiNCXXhrNfRcw\n",
       "gxUzVgiGk3Veyk0bh+2Wbo8272Umd3fKSAAAACtBn7VFFSwQ/wACGtsnNd95USi9eMgcht8ME0H0\n",
       "r3Dap47SlJmvrNQIEAm5AAAALwGf1HRD/wADX3SziTTtFdzpeMFP7o4fH0vzuWkzrqhDOfqtVp47\n",
       "iQfLjTctwDPgAAAAMAGf1mpD/wAE1dSmKVxEt7tM57OFrXZR59qUM7EdN8sdks3TxnsLjUZhhRYM\n",
       "/WxVwQAAAWVBm9tJqEFsmUwIJ//+tSqAAb6wvqhQA2MvJqLjDTEsaiy7Bft2yR7VYy6HmN8gvmqc\n",
       "C5fbnNECjcNUEIcmEbf+EL/wBKQw5oFdE/vIyWdBkgzqp3nMNo3zvzfP/mhjX4FZ1Ch8H8X8Ff+a\n",
       "I4AkxKj5FSpw3C5l4fp45uHg1nKIVq4TfePv4eBD13mkPbKZt1YbELabPU7ZSibdgKMfCWN8ymQ5\n",
       "v6bafMUkmdFs17Qi0or8laZxnRQxPh6am5izlbvdc9HGBDELPuplSJmQF6+McyxzlvSA7qvrEdjU\n",
       "ezEFcOsQJS7h3CT3HiUThE+U4Y+WEFsCztYF9URRt8kVfXwj1qgVmsuPav371W4DKyGv2UHn6QA7\n",
       "Gg3MfdUBbRKDN9DuQwroGN04IL18Ydls9JMATFEPb+h0nBh9DJS3p+4nHfkhVSxnEN+5wqdN2P9W\n",
       "NqSALsZpjEoqhzelWP840lF2Tk1VQ8EAAAAxQZ/5RRUsEP8AAiqh8d5FknwnfWEndJTUPlKD/47i\n",
       "AqJj54x9a6tDu9ZMAJXy0RdFJAAAAC0Bnhh0Q/8AA190s5bV6ThsgFFdBgM6UGwh3ECfsEMgPdX8\n",
       "ZnJGZlEHqJJg6YEAAAAkAZ4aakP/AANf4784+xQYk++SwAtXU4c+azS7DPANQEyp0NSAAAABEUGa\n",
       "H0moQWyZTAgl//61KoABvoTK10AIkkOJ/pQ9cui5F0vG2AJC44paWaQWv3rifqQPt7+hUZ0J9RKH\n",
       "yKuv1XYY+sfsmGpYOVbpiSG+/947ZjONKiA5i1oMQ+ayUA+biEStZPM8JCGr6bPKoX5bPoS1kLnM\n",
       "CkITCrzGskRmooJ/+MSkicOn94ArH3sJr8qlLT8ES6nE8qiZUFOEhnfcRe2Q4vU8obY5xMK4MWJW\n",
       "YHDVZNT2pnvQ20IPApYLMcZUgIjcKcUhUr6Z72XNl2aX9hMAguJ2qIQvlo17knszxHR6W8Ztdvxl\n",
       "1/A0/uh5tV4DCGkgXQV0F6KctS9unmqOBDKKoIW45d9nrJZtEMaWGXLGgQAAADpBnj1FFSwQ/wAC\n",
       "GtsnNd+U3zx8SPLWGV0orRSO/P12QQAgnIF6WrvlGR//n+vosKfnKFwU9sVooBcRAAAAKAGeXHRD\n",
       "/wADX3SitG352icNwOP67XjCizFtHYR+KPSoM6gycDII5lQAAAAiAZ5eakP/AAS2DbOsr0LecECH\n",
       "GX+z1csmALU4QG3aUd6NmAAAAHBBmkNJqEFsmUwIf//+qZYADZVTUsq71FCtG3meBuduTfYrUpVG\n",
       "WpFtKDiTf4ACZmBOI6dBSmn79RHEAjxQxUAIMsvyiDylkhRFLLN+6Ride1h0lJItS+edsCHNtTbn\n",
       "E5jD61vMlhcqxmVyoMxs90XhAAAAVkGeYUUVLBD/AAIa2yc133lRKb1kfHhzhSxAANoTBsqHJjiK\n",
       "IlVwJp7DjxW+cbjqpWyLGkcm13DZQ650f8jP5l1T3QlCYEqw9IUlE5TkpfMatZRG3AwYAAAANAGe\n",
       "gHRD/wAE1XJMh6WJ7pqDrNh0DPi63tczh9ilCnuOdvp3HHaNt/ssfn2Tx39S9C4Ghq0AAAA1AZ6C\n",
       "akP/AAS2DbOsrv5qW8xsOf6JG2TrsZP6CMdbkeS6q6HHjLgNxMZi53PuH4px4xnwj4AAAAfObW9v\n",
       "dgAAAGxtdmhkAAAAAAAAAAAAAAAAAAAD6AAATiAAAQAAAQAAAAAAAAAAAAAAAAEAAAAAAAAAAAAA\n",
       "AAAAAAABAAAAAAAAAAAAAAAAAABAAAAAAAAAAAAAAAAAAAAAAAAAAAAAAAAAAAAAAAAAAgAABvh0\n",
       "cmFrAAAAXHRraGQAAAADAAAAAAAAAAAAAAABAAAAAAAATiAAAAAAAAAAAAAAAAAAAAAAAAEAAAAA\n",
       "AAAAAAAAAAAAAAABAAAAAAAAAAAAAAAAAABAAAAAAbAAAAEgAAAAAAAkZWR0cwAAABxlbHN0AAAA\n",
       "AAAAAAEAAE4gAAAQAAABAAAAAAZwbWRpYQAAACBtZGhkAAAAAAAAAAAAAAAAAAAoAAADIABVxAAA\n",
       "AAAALWhkbHIAAAAAAAAAAHZpZGUAAAAAAAAAAAAAAABWaWRlb0hhbmRsZXIAAAAGG21pbmYAAAAU\n",
       "dm1oZAAAAAEAAAAAAAAAAAAAACRkaW5mAAAAHGRyZWYAAAAAAAAAAQAAAAx1cmwgAAAAAQAABdtz\n",
       "dGJsAAAAs3N0c2QAAAAAAAAAAQAAAKNhdmMxAAAAAAAAAAEAAAAAAAAAAAAAAAAAAAAAAbABIABI\n",
       "AAAASAAAAAAAAAABAAAAAAAAAAAAAAAAAAAAAAAAAAAAAAAAAAAAAAAAAAAAGP//AAAAMWF2Y0MB\n",
       "ZAAV/+EAGGdkABWs2UGwloQAAAMABAAAAwAoPFi2WAEABmjr48siwAAAABx1dWlka2hA8l8kT8W6\n",
       "OaUbzwMj8wAAAAAAAAAYc3R0cwAAAAAAAAABAAAAZAAACAAAAAAUc3RzcwAAAAAAAAABAAAAAQAA\n",
       "AyBjdHRzAAAAAAAAAGIAAAACAAAQAAAAAAEAABgAAAAAAQAACAAAAAABAAAQAAAAAAEAACgAAAAA\n",
       "AQAAEAAAAAABAAAAAAAAAAEAAAgAAAAAAQAAIAAAAAACAAAIAAAAAAEAACgAAAAAAQAAEAAAAAAB\n",
       "AAAAAAAAAAEAAAgAAAAAAQAAKAAAAAABAAAQAAAAAAEAAAAAAAAAAQAACAAAAAABAAAoAAAAAAEA\n",
       "ABAAAAAAAQAAAAAAAAABAAAIAAAAAAEAACgAAAAAAQAAEAAAAAABAAAAAAAAAAEAAAgAAAAAAQAA\n",
       "KAAAAAABAAAQAAAAAAEAAAAAAAAAAQAACAAAAAABAAAoAAAAAAEAABAAAAAAAQAAAAAAAAABAAAI\n",
       "AAAAAAEAACgAAAAAAQAAEAAAAAABAAAAAAAAAAEAAAgAAAAAAQAAKAAAAAABAAAQAAAAAAEAAAAA\n",
       "AAAAAQAACAAAAAABAAAoAAAAAAEAABAAAAAAAQAAAAAAAAABAAAIAAAAAAEAACgAAAAAAQAAEAAA\n",
       "AAABAAAAAAAAAAEAAAgAAAAAAQAAKAAAAAABAAAQAAAAAAEAAAAAAAAAAQAACAAAAAABAAAoAAAA\n",
       "AAEAABAAAAAAAQAAAAAAAAABAAAIAAAAAAEAACgAAAAAAQAAEAAAAAABAAAAAAAAAAEAAAgAAAAA\n",
       "AQAAKAAAAAABAAAQAAAAAAEAAAAAAAAAAQAACAAAAAABAAAoAAAAAAEAABAAAAAAAQAAAAAAAAAB\n",
       "AAAIAAAAAAEAACgAAAAAAQAAEAAAAAABAAAAAAAAAAEAAAgAAAAAAQAAKAAAAAABAAAQAAAAAAEA\n",
       "AAAAAAAAAQAACAAAAAABAAAoAAAAAAEAABAAAAAAAQAAAAAAAAABAAAIAAAAAAEAACgAAAAAAQAA\n",
       "EAAAAAABAAAAAAAAAAEAAAgAAAAAAQAAKAAAAAABAAAQAAAAAAEAAAAAAAAAAQAACAAAAAABAAAo\n",
       "AAAAAAEAABAAAAAAAQAAAAAAAAABAAAIAAAAAAEAACgAAAAAAQAAEAAAAAABAAAAAAAAAAEAAAgA\n",
       "AAAAHHN0c2MAAAAAAAAAAQAAAAEAAABkAAAAAQAAAaRzdHN6AAAAAAAAAAAAAABkAAAUGwAAA0MA\n",
       "AAN+AAAAuwAAAgIAAAO6AAAAswAAAHQAAABdAAAC8AAAAI4AAAA0AAADaAAAAGMAAAA+AAAANQAA\n",
       "AoQAAAA6AAAAKQAAACoAAAK7AAAASQAAACkAAAAqAAACsQAAAEYAAAAuAAAAIAAAAocAAAA+AAAA\n",
       "IwAAAEUAAAJyAAAASAAAADIAAAA8AAACtQAAAF8AAABEAAAAKQAAAqEAAABKAAAAJgAAAC0AAALE\n",
       "AAAAbAAAACwAAAA4AAACWQAAAD0AAABIAAAAOAAAAocAAABbAAAAOwAAAEcAAAKKAAAAUwAAAEkA\n",
       "AABVAAACkwAAAGwAAAA1AAAALAAAAnsAAAA7AAAAPAAAABoAAAHxAAAANAAAACUAAAAgAAAB5QAA\n",
       "ADEAAAAoAAAAKgAAAiMAAABXAAAAMAAAAC8AAAHVAAAAQgAAAD8AAAAnAAABzgAAAC8AAAAzAAAA\n",
       "NAAAAWkAAAA1AAAAMQAAACgAAAEVAAAAPgAAACwAAAAmAAAAdAAAAFoAAAA4AAAAOQAAABRzdGNv\n",
       "AAAAAAAAAAEAAAAsAAAAYnVkdGEAAABabWV0YQAAAAAAAAAhaGRscgAAAAAAAAAAbWRpcmFwcGwA\n",
       "AAAAAAAAAAAAAAAtaWxzdAAAACWpdG9vAAAAHWRhdGEAAAABAAAAAExhdmY1OC4yOS4xMDA=\n",
       "\">\n",
       "  Your browser does not support the video tag.\n",
       "</video>"
      ],
      "text/plain": [
       "<IPython.core.display.HTML object>"
      ]
     },
     "execution_count": 62,
     "metadata": {},
     "output_type": "execute_result"
    }
   ],
   "source": [
    "HTML(anim.to_html5_video())"
   ]
  }
 ],
 "metadata": {
  "kernelspec": {
   "display_name": "Python 3",
   "language": "python",
   "name": "python3"
  },
  "language_info": {
   "codemirror_mode": {
    "name": "ipython",
    "version": 3
   },
   "file_extension": ".py",
   "mimetype": "text/x-python",
   "name": "python",
   "nbconvert_exporter": "python",
   "pygments_lexer": "ipython3",
   "version": "3.7.3"
  }
 },
 "nbformat": 4,
 "nbformat_minor": 2
}
