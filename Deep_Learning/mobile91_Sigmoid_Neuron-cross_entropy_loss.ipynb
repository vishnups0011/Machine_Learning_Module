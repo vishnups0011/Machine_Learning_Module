{
 "cells": [
  {
   "cell_type": "markdown",
   "metadata": {},
   "source": [
    "### Load Libraries"
   ]
  },
  {
   "cell_type": "code",
   "execution_count": 46,
   "metadata": {},
   "outputs": [],
   "source": [
    "import sklearn.datasets\n",
    "import numpy as np\n",
    "import pandas as pd\n",
    "from sklearn.metrics import accuracy_score, mean_squared_error\n",
    "from tqdm import tqdm_notebook\n",
    "import matplotlib.pyplot as plt\n",
    "from mpl_toolkits import mplot3d\n",
    "import matplotlib.colors\n",
    "%matplotlib inline\n",
    "\n",
    "import operator\n",
    "import json\n",
    "np.random.seed(0)"
   ]
  },
  {
   "cell_type": "markdown",
   "metadata": {},
   "source": [
    "### Load Dataset"
   ]
  },
  {
   "cell_type": "code",
   "execution_count": 2,
   "metadata": {},
   "outputs": [],
   "source": [
    "data = pd.read_csv('mobile_cleaned.csv')"
   ]
  },
  {
   "cell_type": "code",
   "execution_count": 3,
   "metadata": {},
   "outputs": [
    {
     "data": {
      "text/html": [
       "<div>\n",
       "<style scoped>\n",
       "    .dataframe tbody tr th:only-of-type {\n",
       "        vertical-align: middle;\n",
       "    }\n",
       "\n",
       "    .dataframe tbody tr th {\n",
       "        vertical-align: top;\n",
       "    }\n",
       "\n",
       "    .dataframe thead th {\n",
       "        text-align: right;\n",
       "    }\n",
       "</style>\n",
       "<table border=\"1\" class=\"dataframe\">\n",
       "  <thead>\n",
       "    <tr style=\"text-align: right;\">\n",
       "      <th></th>\n",
       "      <th>PhoneId</th>\n",
       "      <th>Pixel Density</th>\n",
       "      <th>Screen Size</th>\n",
       "      <th>Weight</th>\n",
       "      <th>RAM</th>\n",
       "      <th>Processor_frequency</th>\n",
       "      <th>Screen to Body Ratio (calculated)</th>\n",
       "      <th>Height</th>\n",
       "      <th>Internal Memory</th>\n",
       "      <th>Capacity</th>\n",
       "      <th>...</th>\n",
       "      <th>os_name_Tizen</th>\n",
       "      <th>os_name_iOS</th>\n",
       "      <th>SIM Slot(s)_Dual SIM, GSM+CDMA</th>\n",
       "      <th>SIM Slot(s)_Dual SIM, GSM+GSM</th>\n",
       "      <th>SIM Slot(s)_Dual SIM, GSM+GSM, Dual VoLTE</th>\n",
       "      <th>SIM Slot(s)_Single SIM, GSM</th>\n",
       "      <th>Sim1_2G</th>\n",
       "      <th>Sim1_3G</th>\n",
       "      <th>Sim1_4G</th>\n",
       "      <th>Rating</th>\n",
       "    </tr>\n",
       "  </thead>\n",
       "  <tbody>\n",
       "    <tr>\n",
       "      <th>0</th>\n",
       "      <td>0</td>\n",
       "      <td>403</td>\n",
       "      <td>6.26</td>\n",
       "      <td>182</td>\n",
       "      <td>4</td>\n",
       "      <td>1.8</td>\n",
       "      <td>80.68</td>\n",
       "      <td>157.9</td>\n",
       "      <td>64</td>\n",
       "      <td>4000</td>\n",
       "      <td>...</td>\n",
       "      <td>0</td>\n",
       "      <td>0</td>\n",
       "      <td>0</td>\n",
       "      <td>0</td>\n",
       "      <td>1</td>\n",
       "      <td>0</td>\n",
       "      <td>0</td>\n",
       "      <td>0</td>\n",
       "      <td>1</td>\n",
       "      <td>4.5</td>\n",
       "    </tr>\n",
       "    <tr>\n",
       "      <th>1</th>\n",
       "      <td>1</td>\n",
       "      <td>271</td>\n",
       "      <td>6.20</td>\n",
       "      <td>168</td>\n",
       "      <td>3</td>\n",
       "      <td>1.8</td>\n",
       "      <td>80.85</td>\n",
       "      <td>156.2</td>\n",
       "      <td>32</td>\n",
       "      <td>4230</td>\n",
       "      <td>...</td>\n",
       "      <td>0</td>\n",
       "      <td>0</td>\n",
       "      <td>0</td>\n",
       "      <td>0</td>\n",
       "      <td>1</td>\n",
       "      <td>0</td>\n",
       "      <td>0</td>\n",
       "      <td>0</td>\n",
       "      <td>1</td>\n",
       "      <td>4.5</td>\n",
       "    </tr>\n",
       "    <tr>\n",
       "      <th>2</th>\n",
       "      <td>2</td>\n",
       "      <td>409</td>\n",
       "      <td>6.30</td>\n",
       "      <td>168</td>\n",
       "      <td>3</td>\n",
       "      <td>2.1</td>\n",
       "      <td>83.68</td>\n",
       "      <td>157.0</td>\n",
       "      <td>32</td>\n",
       "      <td>3500</td>\n",
       "      <td>...</td>\n",
       "      <td>0</td>\n",
       "      <td>0</td>\n",
       "      <td>0</td>\n",
       "      <td>0</td>\n",
       "      <td>1</td>\n",
       "      <td>0</td>\n",
       "      <td>0</td>\n",
       "      <td>0</td>\n",
       "      <td>1</td>\n",
       "      <td>4.4</td>\n",
       "    </tr>\n",
       "    <tr>\n",
       "      <th>3</th>\n",
       "      <td>4</td>\n",
       "      <td>411</td>\n",
       "      <td>6.00</td>\n",
       "      <td>169</td>\n",
       "      <td>4</td>\n",
       "      <td>2.2</td>\n",
       "      <td>74.78</td>\n",
       "      <td>159.8</td>\n",
       "      <td>64</td>\n",
       "      <td>3300</td>\n",
       "      <td>...</td>\n",
       "      <td>0</td>\n",
       "      <td>0</td>\n",
       "      <td>0</td>\n",
       "      <td>1</td>\n",
       "      <td>0</td>\n",
       "      <td>0</td>\n",
       "      <td>0</td>\n",
       "      <td>0</td>\n",
       "      <td>1</td>\n",
       "      <td>4.3</td>\n",
       "    </tr>\n",
       "    <tr>\n",
       "      <th>4</th>\n",
       "      <td>5</td>\n",
       "      <td>396</td>\n",
       "      <td>6.50</td>\n",
       "      <td>175</td>\n",
       "      <td>4</td>\n",
       "      <td>2.2</td>\n",
       "      <td>84.23</td>\n",
       "      <td>160.4</td>\n",
       "      <td>64</td>\n",
       "      <td>3750</td>\n",
       "      <td>...</td>\n",
       "      <td>0</td>\n",
       "      <td>0</td>\n",
       "      <td>0</td>\n",
       "      <td>0</td>\n",
       "      <td>1</td>\n",
       "      <td>0</td>\n",
       "      <td>0</td>\n",
       "      <td>0</td>\n",
       "      <td>1</td>\n",
       "      <td>4.4</td>\n",
       "    </tr>\n",
       "  </tbody>\n",
       "</table>\n",
       "<p>5 rows × 88 columns</p>\n",
       "</div>"
      ],
      "text/plain": [
       "   PhoneId  Pixel Density  Screen Size  Weight  RAM  Processor_frequency  \\\n",
       "0        0            403         6.26     182    4                  1.8   \n",
       "1        1            271         6.20     168    3                  1.8   \n",
       "2        2            409         6.30     168    3                  2.1   \n",
       "3        4            411         6.00     169    4                  2.2   \n",
       "4        5            396         6.50     175    4                  2.2   \n",
       "\n",
       "   Screen to Body Ratio (calculated)  Height  Internal Memory  Capacity  ...  \\\n",
       "0                              80.68   157.9               64      4000  ...   \n",
       "1                              80.85   156.2               32      4230  ...   \n",
       "2                              83.68   157.0               32      3500  ...   \n",
       "3                              74.78   159.8               64      3300  ...   \n",
       "4                              84.23   160.4               64      3750  ...   \n",
       "\n",
       "   os_name_Tizen  os_name_iOS  SIM Slot(s)_Dual SIM, GSM+CDMA  \\\n",
       "0              0            0                               0   \n",
       "1              0            0                               0   \n",
       "2              0            0                               0   \n",
       "3              0            0                               0   \n",
       "4              0            0                               0   \n",
       "\n",
       "   SIM Slot(s)_Dual SIM, GSM+GSM  SIM Slot(s)_Dual SIM, GSM+GSM, Dual VoLTE  \\\n",
       "0                              0                                          1   \n",
       "1                              0                                          1   \n",
       "2                              0                                          1   \n",
       "3                              1                                          0   \n",
       "4                              0                                          1   \n",
       "\n",
       "   SIM Slot(s)_Single SIM, GSM  Sim1_2G  Sim1_3G  Sim1_4G  Rating  \n",
       "0                            0        0        0        1     4.5  \n",
       "1                            0        0        0        1     4.5  \n",
       "2                            0        0        0        1     4.4  \n",
       "3                            0        0        0        1     4.3  \n",
       "4                            0        0        0        1     4.4  \n",
       "\n",
       "[5 rows x 88 columns]"
      ]
     },
     "execution_count": 3,
     "metadata": {},
     "output_type": "execute_result"
    }
   ],
   "source": [
    "data.head()"
   ]
  },
  {
   "cell_type": "code",
   "execution_count": 4,
   "metadata": {},
   "outputs": [
    {
     "data": {
      "text/plain": [
       "(341, 88)"
      ]
     },
     "execution_count": 4,
     "metadata": {},
     "output_type": "execute_result"
    }
   ],
   "source": [
    "data.shape"
   ]
  },
  {
   "cell_type": "code",
   "execution_count": 5,
   "metadata": {},
   "outputs": [],
   "source": [
    "X = data.drop([\"Rating\"],axis=1)\n",
    "y = data['Rating'].values"
   ]
  },
  {
   "cell_type": "code",
   "execution_count": 6,
   "metadata": {},
   "outputs": [
    {
     "data": {
      "text/plain": [
       "array([4.5, 4.5, 4.4, 4.3, 4.4, 4.5, 4.3, 4.1, 4.3, 4.5, 4.5, 4. , 4.4,\n",
       "       4.4, 4.4, 4.4, 4.5, 4.4, 4.4, 4.4, 4.4, 4.5, 4.4, 4.3, 4.2, 4.3,\n",
       "       4.3, 4.6, 4.4, 4.5, 3.9, 4.2, 4.3, 4.2, 4.3, 4.3, 4.2, 4.4, 4.1,\n",
       "       3.8, 4.4, 4.6, 4.3, 4.5, 4.5, 4.2, 3.9, 4.3, 4. , 4.3, 4.3, 3.9,\n",
       "       4.2, 4.5, 4. , 4.6, 4.2, 2.8, 4.4, 4.3, 4.2, 4.4, 4.4, 4. , 4.4,\n",
       "       4.4, 4.1, 4.5, 4.3, 3.9, 4.3, 4.1, 4.1, 4.2, 3.4, 4.2, 4.6, 3.8,\n",
       "       4.3, 4.5, 4.2, 4.5, 4.5, 4. , 4.1, 4.4, 4.5, 4.1, 4.5, 4.3, 4.5,\n",
       "       3.9, 3.9, 4.4, 4.4, 4.4, 4. , 4.1, 4.1, 4.4, 4.3, 4.3, 4.2, 4.3,\n",
       "       3.4, 4.3, 4.3, 4.2, 4.6, 4.8, 4.4, 3.4, 3.7, 4.2, 4.3, 4.4, 4.3,\n",
       "       4.2, 4.1, 4.3, 4. , 3.9, 4.4, 4.4, 3.9, 3.1, 3.7, 4.2, 4.4, 4. ,\n",
       "       4. , 4.1, 4.2, 4.3, 4.2, 4.3, 4.1, 3.6, 4.1, 4. , 3.8, 3.7, 4.3,\n",
       "       4.1, 4.1, 4.5, 4. , 4.3, 3.6, 4.1, 4.5, 3.5, 4. , 4.3, 4.6, 3.5,\n",
       "       3.9, 4.1, 3.9, 3.8, 4.4, 4.3, 4. , 3.9, 4.4, 4.7, 3.9, 4.5, 3.7,\n",
       "       4. , 4.3, 4.1, 4.8, 4.1, 4. , 4.7, 4. , 4.1, 4. , 3.4, 4.1, 3.9,\n",
       "       3.1, 4.1, 3.7, 3.4, 3.9, 4.3, 4.1, 3.7, 3.8, 4. , 3.8, 4.6, 3.4,\n",
       "       3.3, 3.2, 3.5, 4.3, 4.1, 4. , 3.8, 4.3, 4.1, 4. , 3.8, 3.8, 3.9,\n",
       "       4.1, 3.7, 4.2, 4. , 4.2, 4.4, 4.1, 3.4, 4.2, 4.4, 3.9, 3.9, 4.4,\n",
       "       4.2, 4.5, 4.5, 4.2, 4. , 4.2, 3.5, 3.7, 4.3, 5. , 3.5, 4.4, 3.7,\n",
       "       4.3, 3.9, 4.3, 3.8, 3.8, 4.3, 5. , 4.1, 3. , 4.4, 3. , 4. , 4. ,\n",
       "       3.9, 3.9, 4.2, 2.8, 4.3, 3.3, 4.3, 4. , 4.2, 4.1, 4.2, 3.6, 3.5,\n",
       "       4.1, 4.6, 3.9, 4. , 3.8, 4.1, 2.5, 4.2, 3.7, 3.9, 4.1, 3. , 3.8,\n",
       "       4.6, 4.2, 3.4, 3.9, 4.5, 4.1, 3.3, 4.1, 4. , 3.3, 4.4, 3.8, 3.9,\n",
       "       3.6, 4.4, 4.1, 4.1, 4. , 3.5, 3. , 4.2, 4. , 3.9, 3.5, 3.4, 3.4,\n",
       "       4. , 3.6, 4. , 3.5, 4. , 4. , 3.7, 4.6, 4. , 4.1, 4. , 3.5, 4.1,\n",
       "       3.7, 4.4, 4.3, 4.1, 3.9, 3.4, 3.3, 3.9, 4. , 4.4, 4.5, 4.2, 3.8,\n",
       "       3.7, 4.2, 4.1, 4. , 3.9, 3.7, 4.2, 4. , 3.6, 3.6, 4.4, 3.8, 3.9,\n",
       "       4.1, 3.6, 4.3])"
      ]
     },
     "execution_count": 6,
     "metadata": {},
     "output_type": "execute_result"
    }
   ],
   "source": [
    "y"
   ]
  },
  {
   "cell_type": "code",
   "execution_count": 7,
   "metadata": {},
   "outputs": [],
   "source": [
    "threshold = 4.2\n",
    "data['Class'] = (data['Rating'] >= threshold).astype(np.int)"
   ]
  },
  {
   "cell_type": "code",
   "execution_count": 8,
   "metadata": {},
   "outputs": [
    {
     "data": {
      "text/plain": [
       "0    0.533724\n",
       "1    0.466276\n",
       "Name: Class, dtype: float64"
      ]
     },
     "execution_count": 8,
     "metadata": {},
     "output_type": "execute_result"
    }
   ],
   "source": [
    "data['Class'].value_counts(normalize=True)"
   ]
  },
  {
   "cell_type": "code",
   "execution_count": 9,
   "metadata": {},
   "outputs": [],
   "source": [
    "y_binarized = data['Class'].values"
   ]
  },
  {
   "cell_type": "code",
   "execution_count": 10,
   "metadata": {},
   "outputs": [],
   "source": [
    "from sklearn.model_selection import train_test_split\n",
    "X_train, X_test, Y_train, Y_test = train_test_split(X, y, random_state=0, stratify=y_binarized)"
   ]
  },
  {
   "cell_type": "code",
   "execution_count": 11,
   "metadata": {
    "scrolled": true
   },
   "outputs": [
    {
     "name": "stdout",
     "output_type": "stream",
     "text": [
      "(255, 87) (86, 87)\n"
     ]
    }
   ],
   "source": [
    "print(X_train.shape, X_test.shape)"
   ]
  },
  {
   "cell_type": "code",
   "execution_count": 12,
   "metadata": {},
   "outputs": [
    {
     "name": "stdout",
     "output_type": "stream",
     "text": [
      "(255,) (86,)\n"
     ]
    }
   ],
   "source": [
    "print(Y_train.shape,Y_test.shape)"
   ]
  },
  {
   "cell_type": "code",
   "execution_count": 13,
   "metadata": {},
   "outputs": [],
   "source": [
    "# standarization\n",
    "from sklearn.preprocessing import StandardScaler, MinMaxScaler\n",
    "scaler = StandardScaler()"
   ]
  },
  {
   "cell_type": "code",
   "execution_count": 14,
   "metadata": {},
   "outputs": [
    {
     "name": "stderr",
     "output_type": "stream",
     "text": [
      "C:\\Users\\ArunVignesh\\Anaconda3_2019\\lib\\site-packages\\sklearn\\preprocessing\\data.py:645: DataConversionWarning: Data with input dtype int64, float64 were all converted to float64 by StandardScaler.\n",
      "  return self.partial_fit(X, y)\n",
      "C:\\Users\\ArunVignesh\\Anaconda3_2019\\lib\\site-packages\\sklearn\\base.py:464: DataConversionWarning: Data with input dtype int64, float64 were all converted to float64 by StandardScaler.\n",
      "  return self.fit(X, **fit_params).transform(X)\n",
      "C:\\Users\\ArunVignesh\\Anaconda3_2019\\lib\\site-packages\\ipykernel_launcher.py:2: DataConversionWarning: Data with input dtype int64, float64 were all converted to float64 by StandardScaler.\n",
      "  \n"
     ]
    }
   ],
   "source": [
    "X_scaled_train = scaler.fit_transform(X_train)\n",
    "X_scaled_test = scaler.transform(X_test)"
   ]
  },
  {
   "cell_type": "code",
   "execution_count": 15,
   "metadata": {},
   "outputs": [],
   "source": [
    "minmax_scaler = MinMaxScaler()"
   ]
  },
  {
   "cell_type": "code",
   "execution_count": 16,
   "metadata": {},
   "outputs": [],
   "source": [
    "Y_scaled_train = minmax_scaler.fit_transform(Y_train.reshape(-1,1))"
   ]
  },
  {
   "cell_type": "code",
   "execution_count": 17,
   "metadata": {
    "scrolled": true
   },
   "outputs": [
    {
     "data": {
      "text/plain": [
       "1.0"
      ]
     },
     "execution_count": 17,
     "metadata": {},
     "output_type": "execute_result"
    }
   ],
   "source": [
    "np.max(Y_scaled_train)"
   ]
  },
  {
   "cell_type": "code",
   "execution_count": 18,
   "metadata": {},
   "outputs": [],
   "source": [
    "Y_scaled_test = minmax_scaler.transform(Y_test.reshape(-1,1))"
   ]
  },
  {
   "cell_type": "code",
   "execution_count": 19,
   "metadata": {},
   "outputs": [],
   "source": [
    "scaled_threshold = list(minmax_scaler.transform(np.array([threshold]).reshape(-1,1)))[0][0]"
   ]
  },
  {
   "cell_type": "code",
   "execution_count": 20,
   "metadata": {},
   "outputs": [
    {
     "data": {
      "text/plain": [
       "0.6800000000000002"
      ]
     },
     "execution_count": 20,
     "metadata": {},
     "output_type": "execute_result"
    }
   ],
   "source": [
    "scaled_threshold"
   ]
  },
  {
   "cell_type": "code",
   "execution_count": 21,
   "metadata": {},
   "outputs": [],
   "source": [
    "Y_binarised_train = (Y_scaled_train > scaled_threshold).astype(\"int\")"
   ]
  },
  {
   "cell_type": "code",
   "execution_count": 22,
   "metadata": {},
   "outputs": [],
   "source": [
    "Y_binarised_test = (Y_scaled_test > scaled_threshold).astype(\"int\").ravel()"
   ]
  },
  {
   "cell_type": "markdown",
   "metadata": {},
   "source": [
    "### Train on Real Data"
   ]
  },
  {
   "cell_type": "markdown",
   "metadata": {},
   "source": [
    "### Class for Sigmoid Neuron"
   ]
  },
  {
   "cell_type": "code",
   "execution_count": 38,
   "metadata": {},
   "outputs": [],
   "source": [
    "class PerceptronWithSigmoid:\n",
    "    \n",
    "    def __init__(self):\n",
    "        self.w = None\n",
    "        self.b = None\n",
    "        \n",
    "    def perceptron(self, x):\n",
    "        return np.dot(x, self.w.T) + self.b\n",
    "    \n",
    "    def sigmoid(self, z):\n",
    "        return 1. / (1. + np.exp(-z))\n",
    "    \n",
    "    def grad_w(self, x, y):\n",
    "        y_pred = self.sigmoid(self.perceptron(x))\n",
    "        return (y_pred - y) * y_pred * (1 - y_pred) * x\n",
    "    \n",
    "    def grad_b(self, x, y):\n",
    "        y_pred = self.sigmoid(self.perceptron(x))\n",
    "        return (y_pred - y) * y_pred * (1 - y_pred)\n",
    "    \n",
    "    def fit(self, X, Y, epochs=10, learning_rate=0.01, log=False, display_plot=False):\n",
    "        # initialise the weights and bias\n",
    "        self.w = np.random.randn(1, X.shape[1])\n",
    "        self.b = 0\n",
    "        if log or display_plot: \n",
    "            #accuracy = {}\n",
    "            mse = {}\n",
    "        for i in tqdm_notebook(range(epochs), total=epochs, unit=\"epoch\"):\n",
    "            dw, db = 0, 0\n",
    "            for x, y in zip(X, Y):\n",
    "                dw += self.grad_w(x, y)\n",
    "                db += self.grad_b(x, y)\n",
    "            self.w -= learning_rate*dw\n",
    "            self.b -= learning_rate*db\n",
    "            \n",
    "            if log or display_plot:\n",
    "                Y_pred = self.predict(X)\n",
    "                #Y_binarized = (Y >= SCALED_THRESHOLD).astype(np.int)\n",
    "                #Y_pred_binarized = (Y_pred >= SCALED_THRESHOLD).astype(np.int)\n",
    "                #accuracy[i] = accuracy_score(Y_binarized, Y_pred_binarized)\n",
    "                mse[i] = mean_squared_error(Y, Y_pred)\n",
    "        if log:\n",
    "            #with open('perceptron_with_sigmoid_accuracy.json', 'w') as fp:\n",
    "                #json.dump(accuracy, fp)\n",
    "            with open('perceptron_with_sigmoid_mse.json', 'w') as fp:\n",
    "                json.dump(mse, fp)\n",
    "        if display_plot:\n",
    "            #epochs_, accuracy_ = zip(*accuracy.items())\n",
    "            #plt.plot(epochs_, accuracy_)\n",
    "            #plt.xlabel(\"Epochs\")\n",
    "            #plt.ylabel(\"Train Accuracy\")\n",
    "            #plt.show()\n",
    "            epochs_, mse_ = zip(*mse.items())\n",
    "            plt.plot(epochs_, mse_)\n",
    "            plt.xlabel(\"Epochs\")\n",
    "            plt.ylabel(\"Train Error (MSE)\")\n",
    "            plt.show()\n",
    "            \n",
    "                    \n",
    "    def predict(self, X):\n",
    "        Y = []\n",
    "        for x in X:\n",
    "            result = self.sigmoid(self.perceptron(x))\n",
    "            Y.append(result)\n",
    "        return np.array(Y)\n",
    "\n",
    "   "
   ]
  },
  {
   "cell_type": "code",
   "execution_count": 39,
   "metadata": {},
   "outputs": [],
   "source": [
    "sn = PerceptronWithSigmoid()"
   ]
  },
  {
   "cell_type": "code",
   "execution_count": 47,
   "metadata": {},
   "outputs": [
    {
     "data": {
      "application/vnd.jupyter.widget-view+json": {
       "model_id": "889829bbbb5645eba16e0002eee26bf6",
       "version_major": 2,
       "version_minor": 0
      },
      "text/plain": [
       "HBox(children=(IntProgress(value=0, max=2000), HTML(value='')))"
      ]
     },
     "metadata": {},
     "output_type": "display_data"
    },
    {
     "name": "stdout",
     "output_type": "stream",
     "text": [
      "\n"
     ]
    }
   ],
   "source": [
    "sn.fit(X_scaled_train,Y_scaled_train,epochs=2000, learning_rate=0.015, log=True)\n",
    "#(self, X, Y, epochs=10, learning_rate=0.01, log=False, display_plot=False)"
   ]
  },
  {
   "cell_type": "code",
   "execution_count": 48,
   "metadata": {},
   "outputs": [],
   "source": [
    "Y_pred_train = sn.predict(X_scaled_train)\n",
    "Y_pred_test = sn.predict(X_scaled_test)"
   ]
  },
  {
   "cell_type": "code",
   "execution_count": 49,
   "metadata": {},
   "outputs": [],
   "source": [
    "Y_pred_binarised_train = (Y_pred_train > scaled_threshold).astype(\"int\").ravel()\n",
    "Y_pred_binarised_test = (Y_pred_test > scaled_threshold).astype(\"int\").ravel()"
   ]
  },
  {
   "cell_type": "code",
   "execution_count": 50,
   "metadata": {},
   "outputs": [],
   "source": [
    "accuracy_train = accuracy_score(Y_pred_binarised_train, Y_binarised_train)\n",
    "accuracy_test  = accuracy_score(Y_pred_binarised_test, Y_binarised_test)"
   ]
  },
  {
   "cell_type": "code",
   "execution_count": 29,
   "metadata": {},
   "outputs": [
    {
     "name": "stdout",
     "output_type": "stream",
     "text": [
      "0.4745098039215686 0.37209302325581395\n"
     ]
    }
   ],
   "source": [
    "print(accuracy_train, accuracy_test)"
   ]
  },
  {
   "cell_type": "code",
   "execution_count": 51,
   "metadata": {},
   "outputs": [
    {
     "name": "stdout",
     "output_type": "stream",
     "text": [
      "0.7411764705882353 0.7906976744186046\n"
     ]
    }
   ],
   "source": [
    "print(accuracy_train, accuracy_test)"
   ]
  },
  {
   "cell_type": "code",
   "execution_count": 44,
   "metadata": {},
   "outputs": [
    {
     "name": "stdout",
     "output_type": "stream",
     "text": [
      "0.7686274509803922 0.7325581395348837\n"
     ]
    }
   ],
   "source": [
    "print(accuracy_train, accuracy_test)"
   ]
  }
 ],
 "metadata": {
  "kernelspec": {
   "display_name": "Python 3",
   "language": "python",
   "name": "python3"
  },
  "language_info": {
   "codemirror_mode": {
    "name": "ipython",
    "version": 3
   },
   "file_extension": ".py",
   "mimetype": "text/x-python",
   "name": "python",
   "nbconvert_exporter": "python",
   "pygments_lexer": "ipython3",
   "version": "3.7.3"
  }
 },
 "nbformat": 4,
 "nbformat_minor": 2
}
